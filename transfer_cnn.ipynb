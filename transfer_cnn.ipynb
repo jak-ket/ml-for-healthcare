{
 "cells": [
  {
   "cell_type": "code",
   "execution_count": 1,
   "id": "73a532d5-404e-4354-be6d-8e86721d69f9",
   "metadata": {},
   "outputs": [],
   "source": [
    "import sys\n",
    "import numpy as np\n",
    "import pandas as pd\n",
    "import matplotlib.pyplot as plt\n",
    "from matplotlib.colors import LinearSegmentedColormap\n",
    "from sklearn.metrics import precision_score, recall_score, f1_score, confusion_matrix, ConfusionMatrixDisplay\n",
    "\n",
    "# append the filepath to where torch is installed\n",
    "sys.path.append('/home/millerm/.local/lib/python3.10/site-packages')\n",
    "# sys.path.append('/home/username/.local/lib/python3.10/site-packages')\n",
    "\n",
    "import torch\n",
    "import torch.nn as nn\n",
    "import torch.optim as optim"
   ]
  },
  {
   "cell_type": "markdown",
   "id": "3c33deb2-ddef-4962-8668-6f014a37a211",
   "metadata": {},
   "source": [
    "## Load and Preprocess Data"
   ]
  },
  {
   "cell_type": "code",
   "execution_count": 2,
   "id": "191c36a0-add3-40a1-8b3e-7897ea3320aa",
   "metadata": {},
   "outputs": [
    {
     "data": {
      "text/plain": [
       "(array([0., 1., 2., 3., 4.]), array([72471,  2223,  5788,   641,  6431]))"
      ]
     },
     "execution_count": 2,
     "metadata": {},
     "output_type": "execute_result"
    }
   ],
   "source": [
    "file_name = \"ml4h_data/project2/project2_TS_input/mitbih_train.csv\"\n",
    "df_train = pd.read_csv(file_name,header=None)\n",
    "x_train = df_train.iloc[:, df_train.columns != 187]\n",
    "x_train = x_train.values.reshape(-1, 1, 187)\n",
    "train_target = df_train.iloc[:, 187]\n",
    "train_target = train_target.values\n",
    "np.unique(train_target,return_counts=True)"
   ]
  },
  {
   "cell_type": "code",
   "execution_count": 3,
   "id": "a57fd855-b5f1-4f08-bdfb-22018c00959a",
   "metadata": {},
   "outputs": [
    {
     "data": {
      "text/plain": [
       "(array([0., 1., 2., 3., 4.]), array([18118,   556,  1448,   162,  1608]))"
      ]
     },
     "execution_count": 3,
     "metadata": {},
     "output_type": "execute_result"
    }
   ],
   "source": [
    "file_name = \"ml4h_data/project2/project2_TS_input/mitbih_test.csv\"\n",
    "df_test = pd.read_csv(file_name,header=None)\n",
    "x_test = df_test.iloc[:, df_test.columns != 187]\n",
    "x_test = x_test.values.reshape(-1, 1, 187)\n",
    "test_target = df_test.iloc[:, 187]\n",
    "test_target = test_target.values\n",
    "np.unique(test_target,return_counts=True)"
   ]
  },
  {
   "cell_type": "code",
   "execution_count": 4,
   "id": "cc27673a-4867-46a5-a1d0-f1386030362f",
   "metadata": {},
   "outputs": [
    {
     "data": {
      "text/plain": [
       "device(type='cuda')"
      ]
     },
     "execution_count": 4,
     "metadata": {},
     "output_type": "execute_result"
    }
   ],
   "source": [
    "device = torch.device('cuda') if torch.cuda.is_available() else torch.device('cpu')\n",
    "device"
   ]
  },
  {
   "cell_type": "code",
   "execution_count": 5,
   "id": "da8e5a97-3edb-48df-95aa-b0d1338ff56b",
   "metadata": {},
   "outputs": [],
   "source": [
    "from setsloaders import create_datasets, create_loaders"
   ]
  },
  {
   "cell_type": "code",
   "execution_count": 6,
   "id": "0ce30b44-64ac-413d-bd56-c7a9143e1692",
   "metadata": {},
   "outputs": [],
   "source": [
    "datasets = create_datasets(x_train, x_test, train_target, test_target, seed=123)\n",
    "trn_dl, val_dl, tst_dl = create_loaders(datasets, bs=256)"
   ]
  },
  {
   "cell_type": "markdown",
   "id": "dd4f8b57-8547-4f98-9346-64da8b50e38b",
   "metadata": {},
   "source": [
    "## Load and Train Model"
   ]
  },
  {
   "cell_type": "code",
   "execution_count": 7,
   "id": "114435f6-1d11-4a98-80e4-685d0038770d",
   "metadata": {},
   "outputs": [],
   "source": [
    "input_channels = 1\n",
    "num_classes = 5\n",
    "train_loader = trn_dl\n",
    "test_loader = tst_dl\n",
    "num_epochs = 30\n",
    "learning_rate = 0.005"
   ]
  },
  {
   "cell_type": "code",
   "execution_count": 8,
   "id": "e81e7ffa-845d-4036-b658-0d67744a6542",
   "metadata": {},
   "outputs": [],
   "source": [
    "class cnn(nn.Module):\n",
    "    def __init__(self, input_channels, num_classes):\n",
    "        super(cnn, self).__init__()\n",
    "        self.conv1 = nn.Conv1d(in_channels=input_channels, out_channels=64, kernel_size=3)\n",
    "        self.conv2 = nn.Conv1d(in_channels=64, out_channels=128, kernel_size=3)\n",
    "        self.conv3 = nn.Conv1d(in_channels=128, out_channels=256, kernel_size=3)\n",
    "        self.fc1 = nn.Linear(5376, 128)\n",
    "        self.fc2 = nn.Linear(128, num_classes)\n",
    "        self.relu = nn.ReLU()\n",
    "        self.pool = nn.MaxPool1d(kernel_size=2)\n",
    "\n",
    "    def forward(self, x):\n",
    "        x = self.relu(self.conv1(x))\n",
    "        x = self.pool(x)\n",
    "        x = self.relu(self.conv2(x))\n",
    "        x = self.pool(x)\n",
    "        x = self.relu(self.conv3(x))\n",
    "        x = self.pool(x)\n",
    "        x = torch.flatten(x, 1)\n",
    "        x = self.relu(self.fc1(x))\n",
    "        x = self.fc2(x)\n",
    "        return x\n",
    "\n",
    "model = cnn(input_channels, num_classes).to(device)"
   ]
  },
  {
   "cell_type": "code",
   "execution_count": 9,
   "id": "7f48ac7e-59e5-4c3d-bdc2-3b6bd086fe6d",
   "metadata": {},
   "outputs": [],
   "source": [
    "model = torch.load(\"models/vanillacnn.pth\")\n",
    "model = model.to(device)"
   ]
  },
  {
   "cell_type": "code",
   "execution_count": 10,
   "id": "5072bfd3-6284-44c9-b4f9-c1c967c5ad1d",
   "metadata": {},
   "outputs": [],
   "source": [
    "model.fc2 = nn.Linear(128, 5, bias=True).to(device)"
   ]
  },
  {
   "cell_type": "code",
   "execution_count": 11,
   "id": "a74781fb-5f35-43ed-8fea-f0a276cd34d7",
   "metadata": {},
   "outputs": [
    {
     "name": "stdout",
     "output_type": "stream",
     "text": [
      "cnn(\n",
      "  (conv1): Conv1d(1, 64, kernel_size=(3,), stride=(1,))\n",
      "  (conv2): Conv1d(64, 128, kernel_size=(3,), stride=(1,))\n",
      "  (conv3): Conv1d(128, 256, kernel_size=(3,), stride=(1,))\n",
      "  (fc1): Linear(in_features=5376, out_features=128, bias=True)\n",
      "  (fc2): Linear(in_features=128, out_features=5, bias=True)\n",
      "  (relu): ReLU()\n",
      "  (pool): MaxPool1d(kernel_size=2, stride=2, padding=0, dilation=1, ceil_mode=False)\n",
      ")\n"
     ]
    }
   ],
   "source": [
    "print(model)"
   ]
  },
  {
   "cell_type": "code",
   "execution_count": 12,
   "id": "800f0e11-57ef-47c1-939e-edb86d5ef22f",
   "metadata": {},
   "outputs": [
    {
     "name": "stdout",
     "output_type": "stream",
     "text": [
      "Epoch: 0, Loss: 0.06035562604665756\n",
      "Epoch: 1, Loss: 0.07411456108093262\n",
      "Epoch: 2, Loss: 0.03483486920595169\n",
      "Epoch: 3, Loss: 0.057375580072402954\n",
      "Epoch: 4, Loss: 0.1295066475868225\n",
      "Epoch: 5, Loss: 0.04020923748612404\n",
      "Epoch: 6, Loss: 0.04918348789215088\n",
      "Epoch: 7, Loss: 0.026485299691557884\n",
      "Epoch: 8, Loss: 0.024512602016329765\n",
      "Epoch: 9, Loss: 0.015727488324046135\n",
      "Epoch: 10, Loss: 0.043743912130594254\n",
      "Epoch: 11, Loss: 0.016276879236102104\n",
      "Epoch: 12, Loss: 0.006542561575770378\n",
      "Epoch: 13, Loss: 0.0055747791193425655\n",
      "Epoch: 14, Loss: 0.035218674689531326\n",
      "Epoch: 15, Loss: 0.0031519935000687838\n",
      "Epoch: 16, Loss: 0.020512163639068604\n",
      "Epoch: 17, Loss: 0.03547593951225281\n",
      "Epoch: 18, Loss: 0.04987310990691185\n",
      "Epoch: 19, Loss: 0.025958525016903877\n",
      "Epoch: 20, Loss: 0.025782501325011253\n",
      "Epoch: 21, Loss: 0.0058400980196893215\n",
      "Epoch: 22, Loss: 0.00981922261416912\n",
      "Epoch: 23, Loss: 0.0010112394811585546\n",
      "Epoch: 24, Loss: 0.05216825008392334\n",
      "Epoch: 25, Loss: 0.0026923860423266888\n",
      "Epoch: 26, Loss: 0.0016601833049207926\n",
      "Epoch: 27, Loss: 0.0037418310530483723\n",
      "Epoch: 28, Loss: 0.0037864826153963804\n",
      "Epoch: 29, Loss: 0.004205283708870411\n",
      "Accuracy: 98.12%\n"
     ]
    }
   ],
   "source": [
    "criterion = nn.CrossEntropyLoss()\n",
    "optimizer = optim.AdamW(model.parameters(), lr=learning_rate)\n",
    "\n",
    "for epoch in range(num_epochs):\n",
    "    model.train()\n",
    "    for inputs, labels in train_loader:\n",
    "        inputs, labels = inputs.to(device), labels.to(device)\n",
    "        \n",
    "        optimizer.zero_grad()\n",
    "        outputs = model(inputs)\n",
    "        loss = criterion(outputs, labels)\n",
    "        loss.backward()\n",
    "        optimizer.step()\n",
    "    print(f\"Epoch: {epoch}, Loss: {loss}\")\n",
    "        \n",
    "model.eval()\n",
    "predictions = []\n",
    "with torch.no_grad():\n",
    "    correct = 0\n",
    "    total = 0\n",
    "    for inputs, labels in test_loader:\n",
    "        inputs, labels = inputs.to(device), labels.to(device)\n",
    "        outputs = model(inputs)\n",
    "        _, predicted = torch.max(outputs.data, 1)\n",
    "        total += labels.size(0)\n",
    "        correct += (predicted == labels).sum().item()\n",
    "        #print(predicted,labels)\n",
    "        predicted = predicted.to(\"cpu\")\n",
    "        predictions = np.append(predictions,predicted)\n",
    "\n",
    "    accuracy = 100 * correct / total\n",
    "    print('Accuracy: {:.2f}%'.format(accuracy))"
   ]
  },
  {
   "cell_type": "code",
   "execution_count": 17,
   "id": "db583e3b-2acc-477d-9e2f-ac1a1a87cdca",
   "metadata": {},
   "outputs": [
    {
     "name": "stdout",
     "output_type": "stream",
     "text": [
      "Precision: 0.94\n",
      "Recall: 0.86\n",
      "F1-Score: 0.90\n"
     ]
    }
   ],
   "source": [
    "model.eval()\n",
    "predictions = []\n",
    "ground_truth = []\n",
    "\n",
    "with torch.no_grad():\n",
    "    for inputs, labels in test_loader:\n",
    "        inputs, labels = inputs.to(device), labels.to(device)\n",
    "        outputs = model(inputs)\n",
    "        _, predicted = torch.max(outputs.data, 1)\n",
    "        predictions.extend(predicted.cpu().numpy())\n",
    "        ground_truth.extend(labels.cpu().numpy())\n",
    "\n",
    "predictions = np.array(predictions)\n",
    "ground_truth = np.array(ground_truth)\n",
    "\n",
    "precision = precision_score(ground_truth, predictions, average=\"macro\")\n",
    "recall = recall_score(ground_truth, predictions, average=\"macro\")\n",
    "f1 = f1_score(ground_truth, predictions, average=\"macro\")\n",
    "\n",
    "print('Precision: {:.2f}'.format(precision))\n",
    "print('Recall: {:.2f}'.format(recall))\n",
    "print('F1-Score: {:.2f}'.format(f1))"
   ]
  },
  {
   "cell_type": "code",
   "execution_count": 14,
   "id": "492c4d7f-c128-4d75-8474-c2ce61fa1579",
   "metadata": {},
   "outputs": [],
   "source": [
    "torch.save(model, \"models/transfercnn.pth\")"
   ]
  },
  {
   "cell_type": "code",
   "execution_count": 15,
   "id": "3ee47657-53fb-491a-bd80-d1c9c120afb1",
   "metadata": {},
   "outputs": [
    {
     "data": {
      "image/png": "[encoded data removed]",
      "text/plain": [
       "<Figure size 640x480 with 2 Axes>"
      ]
     },
     "metadata": {},
     "output_type": "display_data"
    }
   ],
   "source": [
    "default_cmap = LinearSegmentedColormap.from_list('zurichblue',\n",
    "                                                 [(0, '#ffffff'),\n",
    "                                                  (1, '#0070b4')], N=256)\n",
    "cm = confusion_matrix(test_target, predictions)\n",
    "ConfusionMatrixDisplay(cm).plot(cmap=default_cmap)\n",
    "plt.savefig(\"plots/conmat_transfer.png\")"
   ]
  }
 ],
 "metadata": {
  "kernelspec": {
   "display_name": "Python 3 (ipykernel)",
   "language": "python",
   "name": "python3"
  },
  "language_info": {
   "codemirror_mode": {
    "name": "ipython",
    "version": 3
   },
   "file_extension": ".py",
   "mimetype": "text/x-python",
   "name": "python",
   "nbconvert_exporter": "python",
   "pygments_lexer": "ipython3",
   "version": "3.10.12"
  }
 },
 "nbformat": 4,
 "nbformat_minor": 5
}
