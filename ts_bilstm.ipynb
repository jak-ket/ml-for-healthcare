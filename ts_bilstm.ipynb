{
 "cells": [
  {
   "cell_type": "code",
   "execution_count": 1,
   "id": "bd1b6212-ff78-4f9f-a6ab-78b3abad0ff8",
   "metadata": {},
   "outputs": [],
   "source": [
    "import sys\n",
    "import numpy as np\n",
    "import pandas as pd\n",
    "from sklearn.metrics import precision_score, recall_score\n",
    "\n",
    "# append the filepath to where torch is installed\n",
    "sys.path.append('/home/millerm/.local/lib/python3.10/site-packages')\n",
    "# sys.path.append('/home/username/.local/lib/python3.10/site-packages')\n",
    "\n",
    "import torch\n",
    "import torch.nn as nn\n",
    "import torch.optim as optim"
   ]
  },
  {
   "cell_type": "markdown",
   "id": "35bfae02-c4aa-4f94-9346-e443f87c531f",
   "metadata": {},
   "source": [
    "## Load and Preprocess Data"
   ]
  },
  {
   "cell_type": "code",
   "execution_count": 2,
   "id": "2d9bde25-3c72-4376-adb3-8f30ed2194c4",
   "metadata": {},
   "outputs": [
    {
     "data": {
      "text/plain": [
       "array([1., 1., 0., ..., 1., 1., 1.])"
      ]
     },
     "execution_count": 2,
     "metadata": {},
     "output_type": "execute_result"
    }
   ],
   "source": [
    "file_name = \"ml4h_data/project2/project2_TS_input/ptbdb_train.csv\"\n",
    "df_train = pd.read_csv(file_name,header=None)\n",
    "x_train = df_train.iloc[:, df_train.columns != 187]\n",
    "x_train = x_train.values.reshape(-1, 1, 187)\n",
    "train_target = df_train.iloc[:, 187]\n",
    "train_target = train_target.values\n",
    "train_target"
   ]
  },
  {
   "cell_type": "code",
   "execution_count": 3,
   "id": "43dba4f7-3172-4151-bb28-9eb92745e80b",
   "metadata": {},
   "outputs": [
    {
     "data": {
      "text/plain": [
       "array([0., 1., 0., ..., 1., 1., 0.])"
      ]
     },
     "execution_count": 3,
     "metadata": {},
     "output_type": "execute_result"
    }
   ],
   "source": [
    "file_name = \"ml4h_data/project2/project2_TS_input/ptbdb_test.csv\"\n",
    "df_test = pd.read_csv(file_name,header=None)\n",
    "x_test = df_test.iloc[:, df_test.columns != 187]\n",
    "x_test = x_test.values.reshape(-1, 1, 187)\n",
    "test_target = df_test.iloc[:, 187]\n",
    "test_target = test_target.values\n",
    "test_target"
   ]
  },
  {
   "cell_type": "code",
   "execution_count": 4,
   "id": "f5540454-cab7-4eb7-8e07-1da93468ad21",
   "metadata": {},
   "outputs": [
    {
     "data": {
      "text/plain": [
       "device(type='cuda')"
      ]
     },
     "execution_count": 4,
     "metadata": {},
     "output_type": "execute_result"
    }
   ],
   "source": [
    "device = torch.device('cuda') if torch.cuda.is_available() else torch.device('cpu')\n",
    "device"
   ]
  },
  {
   "cell_type": "code",
   "execution_count": 5,
   "id": "e706488b-5753-4c46-8805-1e1bb278e19f",
   "metadata": {},
   "outputs": [],
   "source": [
    "from setsloaders import create_datasets, create_loaders"
   ]
  },
  {
   "cell_type": "code",
   "execution_count": 6,
   "id": "1886bbdd-fc91-422b-9834-d28fe7ef4338",
   "metadata": {},
   "outputs": [],
   "source": [
    "datasets = create_datasets(x_train, x_test, train_target, test_target, seed=123)\n",
    "trn_dl, val_dl, tst_dl = create_loaders(datasets, bs=256)"
   ]
  },
  {
   "cell_type": "markdown",
   "id": "d9550ed5-e273-453f-abac-feefeb2e5407",
   "metadata": {},
   "source": [
    "## Bidirectional LSTM"
   ]
  },
  {
   "cell_type": "code",
   "execution_count": 7,
   "id": "1a93f77a-1ca8-4e19-9d1e-d49d68d65d82",
   "metadata": {},
   "outputs": [],
   "source": [
    "class BiLSTM(nn.Module):\n",
    "    def __init__(self, input_size, hidden_size, num_layers, output_size):\n",
    "        super(BiLSTM, self).__init__()\n",
    "        self.hidden_size = hidden_size\n",
    "        self.num_layers = num_layers\n",
    "        self.lstm_forward = nn.LSTM(input_size, hidden_size, num_layers, batch_first=True, bidirectional=False)\n",
    "        self.lstm_backward = nn.LSTM(input_size, hidden_size, num_layers, batch_first=True, bidirectional=False)\n",
    "        self.fc = nn.Linear(hidden_size * 2, output_size)\n",
    "        \n",
    "    def forward(self, x):\n",
    "        h0_forward = torch.zeros(self.num_layers, x.size(0), self.hidden_size).to(x.device)\n",
    "        c0_forward = torch.zeros(self.num_layers, x.size(0), self.hidden_size).to(x.device)\n",
    "        out_forward, _ = self.lstm_forward(x, (h0_forward, c0_forward))\n",
    "        h0_backward = torch.zeros(self.num_layers, x.size(0), self.hidden_size).to(x.device)\n",
    "        c0_backward = torch.zeros(self.num_layers, x.size(0), self.hidden_size).to(x.device)\n",
    "        out_backward, _ = self.lstm_backward(torch.flip(x, [1]), (h0_backward, c0_backward))\n",
    "        out_bidirectional = torch.cat((out_forward, torch.flip(out_backward, [1])), dim=2)\n",
    "        out = self.fc(out_bidirectional[:, -1, :])\n",
    "        \n",
    "        return out"
   ]
  },
  {
   "cell_type": "code",
   "execution_count": 8,
   "id": "f1646f23-4afc-4a52-8238-503aae947263",
   "metadata": {},
   "outputs": [],
   "source": [
    "input_size = 187\n",
    "hidden_size = 32\n",
    "num_layers = 1\n",
    "output_size = 1\n",
    "train_loader = trn_dl\n",
    "test_loader = tst_dl\n",
    "num_epochs = 30\n",
    "learning_rate = 0.01"
   ]
  },
  {
   "cell_type": "code",
   "execution_count": 9,
   "id": "9cd7f4f6-7ce5-4a9e-9f17-afc1b1208acf",
   "metadata": {},
   "outputs": [
    {
     "name": "stdout",
     "output_type": "stream",
     "text": [
      "Epoch 1, Loss: 0.5100858211517334\n",
      "Epoch 2, Loss: 0.3967459434416236\n",
      "Epoch 3, Loss: 0.3581413670283992\n",
      "Epoch 4, Loss: 0.3227523194580543\n",
      "Epoch 5, Loss: 0.28520053079942376\n",
      "Epoch 6, Loss: 0.25312486763407543\n",
      "Epoch 7, Loss: 0.22546398966777614\n",
      "Epoch 8, Loss: 0.2032423782639387\n",
      "Epoch 9, Loss: 0.18131099932077455\n",
      "Epoch 10, Loss: 0.16713823995939114\n",
      "Epoch 11, Loss: 0.15464536754823313\n",
      "Epoch 12, Loss: 0.13993676406581226\n",
      "Epoch 13, Loss: 0.1293174032031036\n",
      "Epoch 14, Loss: 0.12189026631233169\n",
      "Epoch 15, Loss: 0.11399421931766882\n",
      "Epoch 16, Loss: 0.11612356944781978\n",
      "Epoch 17, Loss: 0.11049552697960924\n",
      "Epoch 18, Loss: 0.09237897505120533\n",
      "Epoch 19, Loss: 0.08301201944307583\n",
      "Epoch 20, Loss: 0.08480274949858828\n",
      "Epoch 21, Loss: 0.07862269496772348\n",
      "Epoch 22, Loss: 0.07194054508354605\n",
      "Epoch 23, Loss: 0.0712899642019737\n",
      "Epoch 24, Loss: 0.07174213921151511\n",
      "Epoch 25, Loss: 0.06014017124728459\n",
      "Epoch 26, Loss: 0.0603981919404937\n",
      "Epoch 27, Loss: 0.055510603890913286\n",
      "Epoch 28, Loss: 0.05319010193754987\n",
      "Epoch 29, Loss: 0.05023053869968507\n",
      "Epoch 30, Loss: 0.05578558192383952\n",
      "Accuracy: 96.05%\n"
     ]
    }
   ],
   "source": [
    "model = BiLSTM(input_size, hidden_size, num_layers, output_size).to(device)\n",
    "criterion = nn.BCEWithLogitsLoss()\n",
    "optimizer = optim.AdamW(model.parameters(), lr=learning_rate)\n",
    "\n",
    "for epoch in range(num_epochs):\n",
    "    model.train()\n",
    "    running_loss = 0.0\n",
    "    for i, data in enumerate(train_loader):\n",
    "        inputs, labels = data\n",
    "        inputs, labels = inputs.to(device), labels.to(device)\n",
    "        optimizer.zero_grad()\n",
    "        outputs = model(inputs)\n",
    "        labels = labels.float()\n",
    "        labels = labels.unsqueeze(1)\n",
    "        loss = criterion(outputs, labels)\n",
    "        loss.backward()\n",
    "        optimizer.step()\n",
    "        running_loss += loss.item()\n",
    "\n",
    "    print(f\"Epoch {epoch+1}, Loss: {running_loss / len(train_loader)}\")\n",
    "\n",
    "model.eval()\n",
    "with torch.no_grad():\n",
    "    correct = 0\n",
    "    total = 0\n",
    "    for inputs, labels in test_loader:\n",
    "        inputs, labels = inputs.to(device), labels.to(device)\n",
    "        outputs = model(inputs)\n",
    "        predicted = (outputs > 0.5).float().squeeze()\n",
    "        total += labels.size(0)\n",
    "        correct += (predicted == labels).sum().item()\n",
    "\n",
    "    accuracy = 100 * correct / total\n",
    "    print('Accuracy: {:.2f}%'.format(accuracy))"
   ]
  },
  {
   "cell_type": "code",
   "execution_count": 10,
   "id": "e53ccb2f-6e77-4993-b27f-c4eb1427bf98",
   "metadata": {},
   "outputs": [
    {
     "name": "stdout",
     "output_type": "stream",
     "text": [
      "Precision: 0.98\n",
      "Recall: 0.96\n",
      "F1-Score: 0.97\n"
     ]
    }
   ],
   "source": [
    "model.eval()\n",
    "predictions = []\n",
    "ground_truth = []\n",
    "\n",
    "with torch.no_grad():\n",
    "    for inputs, labels in test_loader:\n",
    "        inputs, labels = inputs.to(device), labels.to(device)\n",
    "        outputs = model(inputs)\n",
    "        predicted = (outputs > 0.5).float().squeeze()\n",
    "        predictions.extend(predicted.cpu().numpy())\n",
    "        ground_truth.extend(labels.cpu().numpy())\n",
    "\n",
    "predictions = np.array(predictions)\n",
    "ground_truth = np.array(ground_truth)\n",
    "\n",
    "precision = precision_score(ground_truth, predictions, average='binary')  # assuming binary classification\n",
    "recall = recall_score(ground_truth, predictions, average='binary')  # assuming binary classification\n",
    "f1 = (2*precision*recall)/(precision+recall)\n",
    "\n",
    "print('Precision: {:.2f}'.format(precision))\n",
    "print('Recall: {:.2f}'.format(recall))\n",
    "print('F1-Score: {:.2f}'.format(f1))"
   ]
  },
  {
   "cell_type": "code",
   "execution_count": null,
   "id": "31a5046b-bdfd-47c4-814c-a792f8f3e105",
   "metadata": {},
   "outputs": [],
   "source": []
  }
 ],
 "metadata": {
  "kernelspec": {
   "display_name": "Python 3 (ipykernel)",
   "language": "python",
   "name": "python3"
  },
  "language_info": {
   "codemirror_mode": {
    "name": "ipython",
    "version": 3
   },
   "file_extension": ".py",
   "mimetype": "text/x-python",
   "name": "python",
   "nbconvert_exporter": "python",
   "pygments_lexer": "ipython3",
   "version": "3.10.12"
  }
 },
 "nbformat": 4,
 "nbformat_minor": 5
}
