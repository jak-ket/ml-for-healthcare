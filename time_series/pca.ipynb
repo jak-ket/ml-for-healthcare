{
  "cells": [
    {
      "cell_type": "markdown",
      "source": [
        "# PCA for CNN Encoder"
      ],
      "metadata": {
        "id": "0nBqQh0DI5mT"
      },
      "id": "0nBqQh0DI5mT"
    },
    {
      "cell_type": "markdown",
      "source": [
        "The embeddings are stored under https://polybox.ethz.ch/index.php/s/bu0w5P5x9DHU86G"
      ],
      "metadata": {
        "id": "dpSsBsFsI9Hn"
      },
      "id": "dpSsBsFsI9Hn"
    },
    {
      "cell_type": "code",
      "execution_count": null,
      "id": "fc348a41-7c63-4b80-8f3b-d04024b44ca9",
      "metadata": {
        "id": "fc348a41-7c63-4b80-8f3b-d04024b44ca9",
        "outputId": "4ef8b99a-1492-44bf-a5fc-d7efa63178f9"
      },
      "outputs": [
        {
          "name": "stdout",
          "output_type": "stream",
          "text": [
            "Defaulting to user installation because normal site-packages is not writeable\n",
            "Collecting git+https://github.com/syrte/ndtest\n",
            "  Cloning https://github.com/syrte/ndtest to /tmp/pip-req-build-1fbxw0gr\n",
            "  Running command git clone --filter=blob:none --quiet https://github.com/syrte/ndtest /tmp/pip-req-build-1fbxw0gr\n",
            "  Resolved https://github.com/syrte/ndtest to commit 8b15ea9009148a4e124a1d3ecdc58216d765a05b\n",
            "  Preparing metadata (setup.py) ... \u001b[?25ldone\n",
            "\u001b[?25hRequirement already satisfied: numpy in ./.local/lib/python3.10/site-packages (from ndtest==0.1) (1.26.4)\n",
            "Requirement already satisfied: scipy in ./.local/lib/python3.10/site-packages (from ndtest==0.1) (1.13.0)\n"
          ]
        }
      ],
      "source": [
        "!pip install git+https://github.com/syrte/ndtest"
      ]
    },
    {
      "cell_type": "code",
      "execution_count": null,
      "id": "73a532d5-404e-4354-be6d-8e86721d69f9",
      "metadata": {
        "id": "73a532d5-404e-4354-be6d-8e86721d69f9"
      },
      "outputs": [],
      "source": [
        "import sys\n",
        "import pandas as pd\n",
        "import numpy as np\n",
        "import matplotlib.pyplot as plt\n",
        "from kl_formulas import compute_kl_divergence, kl_divergence, estimate_density, kl_divergence_matrix\n",
        "from sklearn.decomposition import PCA\n",
        "\n",
        "# append the filepath to where ndtest is installed\n",
        "sys.path.append('/home/username/.local/lib/python3.10/site-packages')\n",
        "# sys.path.append('/home/millerm/.local/lib/python3.10/site-packages')\n",
        "\n",
        "import ndtest"
      ]
    },
    {
      "cell_type": "markdown",
      "id": "8070a64e-fe20-43f3-a371-eba475b2f553",
      "metadata": {
        "id": "8070a64e-fe20-43f3-a371-eba475b2f553"
      },
      "source": [
        "## Create Targets"
      ]
    },
    {
      "cell_type": "code",
      "execution_count": null,
      "id": "fdba967a-fc7c-4e97-847c-82853bea6294",
      "metadata": {
        "id": "fdba967a-fc7c-4e97-847c-82853bea6294",
        "outputId": "075a84f4-6401-4d80-f3de-b69e78466f9a"
      },
      "outputs": [
        {
          "data": {
            "text/plain": [
              "array([1., 1., 0., ..., 1., 1., 1.])"
            ]
          },
          "execution_count": 3,
          "metadata": {},
          "output_type": "execute_result"
        }
      ],
      "source": [
        "file_name = \"ml4h_data/project2/project2_TS_input/ptbdb_train.csv\"\n",
        "df_train = pd.read_csv(file_name,header=None)\n",
        "x_train = df_train.iloc[:, df_train.columns != 187]\n",
        "x_train_ptb = x_train.values.reshape(-1, 1, 187)\n",
        "train_target = df_train.iloc[:, 187]\n",
        "train_target_ptb = train_target.values\n",
        "train_target_ptb"
      ]
    },
    {
      "cell_type": "code",
      "execution_count": null,
      "id": "3f15d863-d0b7-489c-b873-6f2132719069",
      "metadata": {
        "id": "3f15d863-d0b7-489c-b873-6f2132719069",
        "outputId": "b7865241-0073-483c-b3cd-f285d2f611f8"
      },
      "outputs": [
        {
          "data": {
            "text/plain": [
              "array([0., 1., 0., ..., 1., 1., 0.])"
            ]
          },
          "execution_count": 4,
          "metadata": {},
          "output_type": "execute_result"
        }
      ],
      "source": [
        "file_name = \"ml4h_data/project2/project2_TS_input/ptbdb_test.csv\"\n",
        "df_test = pd.read_csv(file_name,header=None)\n",
        "x_test = df_test.iloc[:, df_test.columns != 187]\n",
        "x_test_ptb = x_test.values.reshape(-1, 1, 187)\n",
        "test_target = df_test.iloc[:, 187]\n",
        "test_target_ptb = test_target.values\n",
        "test_target_ptb"
      ]
    },
    {
      "cell_type": "code",
      "execution_count": null,
      "id": "980a6bd3-0daf-44cc-aeda-34b0cf2c5f0a",
      "metadata": {
        "id": "980a6bd3-0daf-44cc-aeda-34b0cf2c5f0a",
        "outputId": "0d711121-83e6-4af4-e2f2-15a66f3bb0d3"
      },
      "outputs": [
        {
          "data": {
            "text/plain": [
              "array([0., 0., 0., ..., 4., 4., 4.])"
            ]
          },
          "execution_count": 5,
          "metadata": {},
          "output_type": "execute_result"
        }
      ],
      "source": [
        "file_name = \"ml4h_data/project2/project2_TS_input/mitbih_train.csv\"\n",
        "df_train = pd.read_csv(file_name,header=None)\n",
        "x_train = df_train.iloc[:, df_train.columns != 187]\n",
        "x_train_mit = x_train.values.reshape(-1, 1, 187)\n",
        "train_target = df_train.iloc[:, 187]\n",
        "train_target_mit = train_target.values\n",
        "train_target_mit"
      ]
    },
    {
      "cell_type": "code",
      "execution_count": null,
      "id": "023f9226-846c-444c-b1ad-5a0e88c8771f",
      "metadata": {
        "id": "023f9226-846c-444c-b1ad-5a0e88c8771f",
        "outputId": "e8ec7c2b-fbc2-4ef1-e6ca-2e832bc58948"
      },
      "outputs": [
        {
          "data": {
            "text/plain": [
              "array([0., 0., 0., ..., 4., 4., 4.])"
            ]
          },
          "execution_count": 6,
          "metadata": {},
          "output_type": "execute_result"
        }
      ],
      "source": [
        "file_name = \"ml4h_data/project2/project2_TS_input/mitbih_test.csv\"\n",
        "df_test = pd.read_csv(file_name,header=None)\n",
        "x_test = df_test.iloc[:, df_test.columns != 187]\n",
        "x_test_mit = x_test.values.reshape(-1, 1, 187)\n",
        "test_target = df_test.iloc[:, 187]\n",
        "test_target_mit = test_target.values\n",
        "test_target_mit"
      ]
    },
    {
      "cell_type": "markdown",
      "id": "548b086e-1792-4c1d-b131-e0b2860343d7",
      "metadata": {
        "id": "548b086e-1792-4c1d-b131-e0b2860343d7"
      },
      "source": [
        "## Load Embeddings"
      ]
    },
    {
      "cell_type": "code",
      "execution_count": null,
      "id": "f376337c-bb5c-46b9-8a08-999a63c52615",
      "metadata": {
        "id": "f376337c-bb5c-46b9-8a08-999a63c52615"
      },
      "outputs": [],
      "source": [
        "mit_train_embeddings = np.load('data/mit_train_embeddings.npy')\n",
        "mit_test_embeddings = np.load('data/mit_test_embeddings.npy')\n",
        "ptb_train_embeddings = np.load('data/ptb_train_embeddings.npy')\n",
        "ptb_test_embeddings = np.load('data/ptb_test_embeddings.npy')"
      ]
    },
    {
      "cell_type": "markdown",
      "id": "0470acca-6201-4575-bedb-23c98ae72cd7",
      "metadata": {
        "id": "0470acca-6201-4575-bedb-23c98ae72cd7"
      },
      "source": [
        "## PCA and Kullback-Leibler Divergence"
      ]
    },
    {
      "cell_type": "code",
      "execution_count": null,
      "id": "544f4445-39cc-43ff-bead-6bbe1ee9ac4b",
      "metadata": {
        "id": "544f4445-39cc-43ff-bead-6bbe1ee9ac4b"
      },
      "outputs": [],
      "source": [
        "pca = PCA(n_components = 2)"
      ]
    },
    {
      "cell_type": "code",
      "execution_count": null,
      "id": "5420cebe-6782-42e9-a722-303b71e057a3",
      "metadata": {
        "id": "5420cebe-6782-42e9-a722-303b71e057a3"
      },
      "outputs": [],
      "source": [
        "pca_train_ptb_reduced = pca.fit_transform(ptb_train_embeddings)\n",
        "pca_test_ptb_reduced = pca.transform(ptb_test_embeddings)\n",
        "pca_train_mit_reduced = pca.fit_transform(mit_train_embeddings)\n",
        "pca_test_mit_reduced = pca.transform(mit_test_embeddings)"
      ]
    },
    {
      "cell_type": "code",
      "execution_count": null,
      "id": "ae705055-5da1-4af7-aab5-a38e14ce9b1f",
      "metadata": {
        "id": "ae705055-5da1-4af7-aab5-a38e14ce9b1f"
      },
      "outputs": [],
      "source": [
        "matrix_train = kl_divergence_matrix(pca_train_ptb_reduced, train_target_ptb)\n",
        "matrix_test = kl_divergence_matrix(pca_test_ptb_reduced, test_target_ptb)"
      ]
    },
    {
      "cell_type": "code",
      "execution_count": null,
      "id": "bfb5aa59-bacf-4a4e-82a0-dfda339304ad",
      "metadata": {
        "collapsed": true,
        "id": "bfb5aa59-bacf-4a4e-82a0-dfda339304ad"
      },
      "outputs": [],
      "source": [
        "fig, axs = plt.subplots(1, 2, figsize=(15, 5))\n",
        "fig.suptitle('KL Divergence Matrix')\n",
        "axs[0].imshow(matrix_train, cmap='Wistia', interpolation='nearest')\n",
        "\n",
        "# Add the values in the squares\n",
        "for i in range(matrix_train.shape[0]):\n",
        "    for j in range(matrix_train.shape[1]):\n",
        "        axs[0].text(j, i, f'{matrix_train[i, j]:.2f}', ha='center', va='center', color='black')\n",
        "\n",
        "axs[0].set_title('PTB Train')\n",
        "axs[0].set_xlabel('Classes')\n",
        "axs[0].set_ylabel('Classes')\n",
        "axs[1].imshow(matrix_test, cmap='Wistia', interpolation='nearest')\n",
        "\n",
        "# Add the values in the squares\n",
        "for i in range(matrix_test.shape[0]):\n",
        "    for j in range(matrix_test.shape[1]):\n",
        "        axs[1].text(j, i, f'{matrix_test[i, j]:.2f}', ha='center', va='center', color='black')\n",
        "\n",
        "axs[1].set_title('PTB Test')\n",
        "axs[1].set_xlabel('Classes')\n",
        "axs[1].set_ylabel('Classes')\n",
        "plt.savefig(\"plots/kl_matrix_ptb.png\")\n",
        "plt.show()"
      ]
    },
    {
      "cell_type": "code",
      "execution_count": null,
      "id": "00374c7f-8152-42e8-8609-0b7ef96e4323",
      "metadata": {
        "id": "00374c7f-8152-42e8-8609-0b7ef96e4323"
      },
      "outputs": [],
      "source": [
        "matrix_train = kl_divergence_matrix(pca_train_mit_reduced, train_target_mit)\n",
        "matrix_test = kl_divergence_matrix(pca_test_mit_reduced, test_target_mit)"
      ]
    },
    {
      "cell_type": "code",
      "execution_count": null,
      "id": "08e36826-1084-422a-a61d-e7b3b2aeef43",
      "metadata": {
        "id": "08e36826-1084-422a-a61d-e7b3b2aeef43"
      },
      "outputs": [],
      "source": [
        "fig, axs = plt.subplots(1, 2, figsize=(15, 5))\n",
        "fig.suptitle('KL Divergence Matrix')\n",
        "axs[0].imshow(matrix_train, cmap='Wistia', interpolation='nearest')\n",
        "\n",
        "# Add the values in the squares\n",
        "for i in range(matrix_train.shape[0]):\n",
        "    for j in range(matrix_train.shape[1]):\n",
        "        axs[0].text(j, i, f'{matrix_train[i, j]:.2f}', ha='center', va='center', color='black')\n",
        "\n",
        "axs[0].set_title('MIT Train')\n",
        "axs[0].set_xlabel('Classes')\n",
        "axs[0].set_ylabel('Classes')\n",
        "axs[1].imshow(matrix_test, cmap='Wistia', interpolation='nearest')\n",
        "\n",
        "# Add the values in the squares\n",
        "for i in range(matrix_test.shape[0]):\n",
        "    for j in range(matrix_test.shape[1]):\n",
        "        axs[1].text(j, i, f'{matrix_test[i, j]:.2f}', ha='center', va='center', color='black')\n",
        "\n",
        "axs[1].set_title('MIT Test')\n",
        "axs[1].set_xlabel('Classes')\n",
        "axs[1].set_ylabel('Classes')\n",
        "plt.savefig(\"plots/kl_matrix_mit.png\")\n",
        "plt.show()"
      ]
    },
    {
      "cell_type": "code",
      "execution_count": null,
      "id": "2f50e7e3-6b7e-4211-973f-2d76c880284c",
      "metadata": {
        "id": "2f50e7e3-6b7e-4211-973f-2d76c880284c"
      },
      "outputs": [],
      "source": [
        "#calculate the Kl divergence between the mit and ptb data all combinations\n",
        "kl_mit_ptb_train = compute_kl_divergence(pca_train_mit_reduced, pca_train_ptb_reduced)\n",
        "kl_mit_ptb_test = compute_kl_divergence(pca_test_mit_reduced, pca_test_ptb_reduced)\n",
        "kl_mit_ptb_train_test = compute_kl_divergence(pca_train_mit_reduced, pca_test_ptb_reduced)\n",
        "kl_mit_ptb_test_train = compute_kl_divergence(pca_test_mit_reduced, pca_train_ptb_reduced)\n",
        "kl_mit = compute_kl_divergence(pca_train_mit_reduced, pca_test_mit_reduced)\n",
        "kl_ptb = compute_kl_divergence(pca_train_ptb_reduced, pca_test_ptb_reduced)\n",
        "\n",
        "# print results in a table\n",
        "print('KL Divergence')\n",
        "print('MIT Train vs PTB Train:', kl_mit_ptb_train)\n",
        "print('MIT Test vs PTB Test:', kl_mit_ptb_test)\n",
        "print('MIT Train vs PTB Test:', kl_mit_ptb_train_test)\n",
        "print('MIT Test vs PTB Train:', kl_mit_ptb_test_train)\n",
        "print('MIT Train vs MIT Test:', kl_mit)\n",
        "print('PTB Train vs PTB Test:', kl_ptb)"
      ]
    },
    {
      "cell_type": "markdown",
      "id": "9d2bf387-770d-4d82-a3b0-744fc5fd9459",
      "metadata": {
        "id": "9d2bf387-770d-4d82-a3b0-744fc5fd9459"
      },
      "source": [
        "## Two-Sample Kolmogorov-Smirnov Test"
      ]
    },
    {
      "cell_type": "code",
      "execution_count": null,
      "id": "85f57400-8e5e-40a3-bdf0-f6708aa70f28",
      "metadata": {
        "id": "85f57400-8e5e-40a3-bdf0-f6708aa70f28"
      },
      "outputs": [],
      "source": [
        "# perform the two-sample test\n",
        "mit_ptb_train = ndtest.ks2d2s(pca_train_mit_reduced[:,0], pca_train_mit_reduced[:,1], pca_train_ptb_reduced[:,0], pca_train_ptb_reduced[:,1])\n",
        "mit_ptb_test = ndtest.ks2d2s(pca_test_mit_reduced[:,0], pca_test_mit_reduced[:,1], pca_test_ptb_reduced[:,0], pca_test_ptb_reduced[:,1])\n",
        "mit_ptb_train_test = ndtest.ks2d2s(pca_train_mit_reduced[:,0], pca_train_mit_reduced[:,1], pca_test_ptb_reduced[:,0], pca_test_ptb_reduced[:,1])\n",
        "mit_ptb_test_train = ndtest.ks2d2s(pca_test_mit_reduced[:,0], pca_test_mit_reduced[:,1], pca_train_ptb_reduced[:,0], pca_train_ptb_reduced[:,1])\n",
        "mit = ndtest.ks2d2s(pca_train_mit_reduced[:,0], pca_train_mit_reduced[:,1], pca_test_mit_reduced[:,0], pca_test_mit_reduced[:,1])\n",
        "ptb = ndtest.ks2d2s(pca_train_ptb_reduced[:,0], pca_train_ptb_reduced[:,1], pca_test_ptb_reduced[:,0], pca_test_ptb_reduced[:,1])\n",
        "\n",
        "# print results in a table\n",
        "print('Two-sample test')\n",
        "print('MIT Train vs PTB Train:', mit_ptb_train)\n",
        "print('MIT Test vs PTB Test:', mit_ptb_test)\n",
        "print('MIT Train vs PTB Test:', mit_ptb_train_test)\n",
        "print('MIT Test vs PTB Train:', mit_ptb_test_train)\n",
        "print('MIT Train vs MIT Test:', mit)\n",
        "print('PTB Train vs PTB Test:', ptb)"
      ]
    }
  ],
  "metadata": {
    "kernelspec": {
      "display_name": "Python 3 (ipykernel)",
      "language": "python",
      "name": "python3"
    },
    "language_info": {
      "codemirror_mode": {
        "name": "ipython",
        "version": 3
      },
      "file_extension": ".py",
      "mimetype": "text/x-python",
      "name": "python",
      "nbconvert_exporter": "python",
      "pygments_lexer": "ipython3",
      "version": "3.10.12"
    },
    "colab": {
      "provenance": []
    }
  },
  "nbformat": 4,
  "nbformat_minor": 5
}