{
  "cells": [
    {
      "cell_type": "code",
      "source": [
        "%load_ext autoreload\n",
        "%autoreload 2"
      ],
      "metadata": {
        "id": "PN_ifxJ86Z-U"
      },
      "execution_count": 33,
      "outputs": []
    },
    {
      "cell_type": "code",
      "source": [
        "import pandas as pd"
      ],
      "metadata": {
        "id": "YL71sAbl4kvw"
      },
      "execution_count": 12,
      "outputs": []
    },
    {
      "cell_type": "code",
      "source": [
        "from google.colab import drive\n",
        "drive.mount('/content/drive/', force_remount=True)"
      ],
      "metadata": {
        "colab": {
          "base_uri": "https://localhost:8080/"
        },
        "id": "wLL8yBxl3Rny",
        "outputId": "b89a883b-7bab-4302-8c46-67923c884795"
      },
      "execution_count": 7,
      "outputs": [
        {
          "output_type": "stream",
          "name": "stdout",
          "text": [
            "Mounted at /content/drive/\n"
          ]
        }
      ]
    },
    {
      "cell_type": "code",
      "source": [
        "import os\n",
        "os.chdir(\"/content/drive/MyDrive/ml-for-healthcare\")"
      ],
      "metadata": {
        "id": "RkMoyp4Y4RvL"
      },
      "execution_count": 29,
      "outputs": []
    },
    {
      "cell_type": "markdown",
      "metadata": {
        "id": "BU97ofLd3Mc-"
      },
      "source": [
        "#### Implement an LSTM network, train it on the PTB dataset, and report test set performance (2 pts)"
      ]
    },
    {
      "cell_type": "markdown",
      "metadata": {
        "id": "gR2o-tCj3MdA"
      },
      "source": [
        "Load data"
      ]
    },
    {
      "cell_type": "code",
      "execution_count": 30,
      "metadata": {
        "id": "G3u6v5YI3MdA"
      },
      "outputs": [],
      "source": [
        "train = pd.read_csv(\"ptbdb_train.csv\", header=None)\n",
        "test = pd.read_csv(\"ptbdb_test.csv\", header=None)"
      ]
    },
    {
      "cell_type": "code",
      "execution_count": 17,
      "metadata": {
        "colab": {
          "base_uri": "https://localhost:8080/"
        },
        "id": "f1HdLxaH3MdB",
        "outputId": "567b7836-5c28-4f7d-a656-0325b1e5d561"
      },
      "outputs": [
        {
          "output_type": "execute_result",
          "data": {
            "text/plain": [
              "((11641, 188), (2911, 188))"
            ]
          },
          "metadata": {},
          "execution_count": 17
        }
      ],
      "source": [
        "train.shape, test.shape"
      ]
    },
    {
      "cell_type": "code",
      "execution_count": 18,
      "metadata": {
        "colab": {
          "base_uri": "https://localhost:8080/",
          "height": 447
        },
        "id": "Kcj9yi9E3MdC",
        "outputId": "860f00e2-7c8a-4803-d9c6-e2c22c47b532"
      },
      "outputs": [
        {
          "output_type": "execute_result",
          "data": {
            "text/plain": [
              "<Axes: >"
            ]
          },
          "metadata": {},
          "execution_count": 18
        },
        {
          "output_type": "display_data",
          "data": {
            "text/plain": [
              "<Figure size 640x480 with 1 Axes>"
            ],
            "image/png": "[encoded data removed]"
          },
          "metadata": {}
        }
      ],
      "source": [
        "train.iloc[0, 0:-1].plot()"
      ]
    },
    {
      "cell_type": "markdown",
      "metadata": {
        "id": "y3R5BX3k3MdE"
      },
      "source": [
        "Prepare data"
      ]
    },
    {
      "cell_type": "code",
      "execution_count": 91,
      "metadata": {
        "colab": {
          "base_uri": "https://localhost:8080/"
        },
        "id": "WGbFDtjr3MdF",
        "outputId": "ea9323fb-258f-404e-feb6-9b00ffb138b6"
      },
      "outputs": [
        {
          "output_type": "execute_result",
          "data": {
            "text/plain": [
              "((11641, 187), (11641,), (2911, 187), (2911,))"
            ]
          },
          "metadata": {},
          "execution_count": 91
        }
      ],
      "source": [
        "X_train = train.iloc[:,0:-1]\n",
        "y_train = train.iloc[:,-1]\n",
        "\n",
        "X_test = test.iloc[:,0:-1]\n",
        "y_test = test.iloc[:,-1]\n",
        "\n",
        "X_train.shape, y_train.shape, X_test.shape, y_test.shape"
      ]
    },
    {
      "cell_type": "markdown",
      "metadata": {
        "id": "EtE13ky_3MdG"
      },
      "source": [
        "Construct RNN"
      ]
    },
    {
      "cell_type": "code",
      "source": [
        "BATCH_SIZE = 16"
      ],
      "metadata": {
        "id": "iFqfS0UU5Yol"
      },
      "execution_count": 24,
      "outputs": []
    },
    {
      "cell_type": "code",
      "execution_count": 92,
      "metadata": {
        "id": "1lBTaO2H3MdI"
      },
      "outputs": [],
      "source": [
        "# train val split\n",
        "from sklearn.model_selection import train_test_split\n",
        "X_train_train, X_train_val, y_train_train, y_train_val = train_test_split(X_train, y_train, test_size=0.15, random_state=42)"
      ]
    },
    {
      "cell_type": "code",
      "execution_count": 96,
      "metadata": {
        "id": "fAaC3B4B3MdJ"
      },
      "outputs": [],
      "source": [
        "import torch\n",
        "from torch.utils.data import TensorDataset, DataLoader\n",
        "\n",
        "# prepare train data\n",
        "train_train_dataset = TensorDataset(torch.tensor(X_train_train.to_numpy()).float(), torch.tensor(y_train_train.to_numpy()).float())\n",
        "train_train_loader = DataLoader(train_train_dataset, shuffle=True, batch_size=BATCH_SIZE)\n",
        "\n",
        "# validation data\n",
        "X_val_dataset = torch.tensor(X_train_val.to_numpy()).float()"
      ]
    },
    {
      "cell_type": "code",
      "source": [
        "t = next(iter(train_train_loader))\n",
        "t[0].shape, t[1].shape"
      ],
      "metadata": {
        "colab": {
          "base_uri": "https://localhost:8080/"
        },
        "id": "yx916YGy7TYl",
        "outputId": "aa048515-0c03-435f-87d2-857e10161549"
      },
      "execution_count": 97,
      "outputs": [
        {
          "output_type": "execute_result",
          "data": {
            "text/plain": [
              "(torch.Size([16, 187]), torch.Size([16]))"
            ]
          },
          "metadata": {},
          "execution_count": 97
        }
      ]
    },
    {
      "cell_type": "code",
      "source": [
        "t[1].unsqueeze(1).shape"
      ],
      "metadata": {
        "colab": {
          "base_uri": "https://localhost:8080/"
        },
        "id": "VXzHXx9B-S2n",
        "outputId": "183665ee-ca39-4a14-ec21-a2753449e1d1"
      },
      "execution_count": 54,
      "outputs": [
        {
          "output_type": "execute_result",
          "data": {
            "text/plain": [
              "torch.Size([16, 1])"
            ]
          },
          "metadata": {},
          "execution_count": 54
        }
      ]
    },
    {
      "cell_type": "code",
      "execution_count": 86,
      "metadata": {
        "colab": {
          "base_uri": "https://localhost:8080/"
        },
        "id": "yHhZe6iB3MdJ",
        "outputId": "3ab7dd96-2ce2-432b-fe8e-173c2a9c05bc"
      },
      "outputs": [
        {
          "output_type": "stream",
          "name": "stdout",
          "text": [
            "cpu\n"
          ]
        }
      ],
      "source": [
        "device = torch.device('cuda') if torch.cuda.is_available() else torch.device('cpu')\n",
        "print(device)"
      ]
    },
    {
      "cell_type": "markdown",
      "source": [
        "Training with validation set"
      ],
      "metadata": {
        "id": "e4sVFM0yDo9s"
      }
    },
    {
      "cell_type": "code",
      "execution_count": 87,
      "metadata": {
        "colab": {
          "base_uri": "https://localhost:8080/"
        },
        "id": "l8y2F4KA3MdK",
        "outputId": "d7213c46-8bf0-49f7-bce0-0b71f08da7b3"
      },
      "outputs": [
        {
          "output_type": "stream",
          "name": "stdout",
          "text": [
            "epoch: 0, train loss: 0.4364164887439637, validation score: 0.8663282571912014\n",
            "epoch: 1, train loss: 0.35750303279785883, validation score: 0.8814675446848542\n",
            "epoch: 2, train loss: 0.3103978567534969, validation score: 0.9010884997633697\n",
            "epoch: 3, train loss: 0.2696665416161219, validation score: 0.9111747851002865\n",
            "epoch: 4, train loss: 0.2427459358601343, validation score: 0.924187725631769\n",
            "epoch: 5, train loss: 0.2197012746937218, validation score: 0.9168190127970749\n",
            "epoch: 6, train loss: 0.19751138002389954, validation score: 0.9354389224338132\n",
            "epoch: 7, train loss: 0.19083905642940885, validation score: 0.9367789570835257\n",
            "epoch: 8, train loss: 0.1757648613596601, validation score: 0.9383301707779885\n",
            "epoch: 9, train loss: 0.16466208988179762, validation score: 0.943378568086102\n",
            "epoch: 10, train loss: 0.1586046676568332, validation score: 0.9408553230209281\n",
            "epoch: 11, train loss: 0.14895016733202196, validation score: 0.948529411764706\n",
            "epoch: 12, train loss: 0.1435548629460945, validation score: 0.9550982226379793\n",
            "epoch: 13, train loss: 0.13985506783106497, validation score: 0.9586016559337627\n",
            "epoch: 14, train loss: 0.12704031614852804, validation score: 0.9567642956764296\n"
          ]
        }
      ],
      "source": [
        "from rnn import TimeSeriesClassifierRNN, train_rnn\n",
        "from sklearn.metrics import f1_score\n",
        "\n",
        "model = TimeSeriesClassifierRNN(\n",
        "    input_size=187,\n",
        "    output_size=1,\n",
        "    hidden_size=32,\n",
        "    num_layers=1\n",
        ").to(device)\n",
        "\n",
        "train_rnn(\n",
        "    model=model,\n",
        "    epochs=15,\n",
        "    batch_size=BATCH_SIZE,\n",
        "    train_loader=train_train_loader,\n",
        "    X_val=X_val_dataset,\n",
        "    y_val=y_train_val,\n",
        "    val_score=f1_score,\n",
        "    device=device\n",
        ")"
      ]
    },
    {
      "cell_type": "markdown",
      "source": [
        "Training on full dataset"
      ],
      "metadata": {
        "id": "140OrMflDsJD"
      }
    },
    {
      "cell_type": "code",
      "source": [
        "# prepare train data\n",
        "train_dataset = TensorDataset(torch.tensor(X_train.to_numpy()).float(), torch.tensor(y_train.to_numpy()).float())\n",
        "train_loader = DataLoader(train_dataset, shuffle=True, batch_size=BATCH_SIZE)\n",
        "\n",
        "# prepare test data\n",
        "X_test_dataset = torch.tensor(X_test.to_numpy()).float()"
      ],
      "metadata": {
        "id": "i3pl2uYNDufZ"
      },
      "execution_count": 106,
      "outputs": []
    },
    {
      "cell_type": "code",
      "source": [
        "from rnn import TimeSeriesClassifierRNN, train_rnn\n",
        "from sklearn.metrics import f1_score\n",
        "\n",
        "model = TimeSeriesClassifierRNN(\n",
        "    input_size=187,\n",
        "    output_size=1,\n",
        "    hidden_size=32,\n",
        "    num_layers=1\n",
        ").to(device)\n",
        "\n",
        "train_rnn(\n",
        "    model=model,\n",
        "    epochs=15,\n",
        "    batch_size=BATCH_SIZE,\n",
        "    train_loader=train_loader,\n",
        "    device=device\n",
        ")"
      ],
      "metadata": {
        "colab": {
          "base_uri": "https://localhost:8080/"
        },
        "id": "BSGv4E0eEVLx",
        "outputId": "5ca8a973-2919-498d-e832-2b57d636a676"
      },
      "execution_count": 100,
      "outputs": [
        {
          "output_type": "stream",
          "name": "stdout",
          "text": [
            "epoch: 0, train loss: 0.40593235448843185, validation score: not evaluated\n",
            "epoch: 1, train loss: 0.3192891424170796, validation score: not evaluated\n",
            "epoch: 2, train loss: 0.26691097706720296, validation score: not evaluated\n",
            "epoch: 3, train loss: 0.23493288028242254, validation score: not evaluated\n",
            "epoch: 4, train loss: 0.2133819260768992, validation score: not evaluated\n",
            "epoch: 5, train loss: 0.19401914428053565, validation score: not evaluated\n",
            "epoch: 6, train loss: 0.17480681477398952, validation score: not evaluated\n",
            "epoch: 7, train loss: 0.16006156676506528, validation score: not evaluated\n",
            "epoch: 8, train loss: 0.1611751089579691, validation score: not evaluated\n",
            "epoch: 9, train loss: 0.1482997489593503, validation score: not evaluated\n",
            "epoch: 10, train loss: 0.13932527221119265, validation score: not evaluated\n",
            "epoch: 11, train loss: 0.12859584106884364, validation score: not evaluated\n",
            "epoch: 12, train loss: 0.12346035793412123, validation score: not evaluated\n",
            "epoch: 13, train loss: 0.11912220581005516, validation score: not evaluated\n",
            "epoch: 14, train loss: 0.1137451726813228, validation score: not evaluated\n"
          ]
        }
      ]
    },
    {
      "cell_type": "markdown",
      "source": [
        "Performance on test set"
      ],
      "metadata": {
        "id": "JNMErbjXIRdL"
      }
    },
    {
      "cell_type": "code",
      "source": [
        "model.eval()\n",
        "with torch.no_grad():\n",
        "  X_test = X_test_dataset.to(device)\n",
        "  y_pred, _ = model(X_test)"
      ],
      "metadata": {
        "id": "BVdLmKLVFmRE"
      },
      "execution_count": 110,
      "outputs": []
    },
    {
      "cell_type": "code",
      "source": [
        "f1_score(y_pred.squeeze(1).detach().numpy().round(), y_test)"
      ],
      "metadata": {
        "colab": {
          "base_uri": "https://localhost:8080/"
        },
        "id": "trVmA7q7E_Q3",
        "outputId": "8dd5cf58-e2a9-46fd-ee19-2a64f20d264b"
      },
      "execution_count": 115,
      "outputs": [
        {
          "output_type": "execute_result",
          "data": {
            "text/plain": [
              "0.9589622641509434"
            ]
          },
          "metadata": {},
          "execution_count": 115
        }
      ]
    }
  ],
  "metadata": {
    "kernelspec": {
      "display_name": "ds",
      "language": "python",
      "name": "python3"
    },
    "language_info": {
      "codemirror_mode": {
        "name": "ipython",
        "version": 3
      },
      "file_extension": ".py",
      "mimetype": "text/x-python",
      "name": "python",
      "nbconvert_exporter": "python",
      "pygments_lexer": "ipython3",
      "version": "3.12.2"
    },
    "colab": {
      "provenance": []
    }
  },
  "nbformat": 4,
  "nbformat_minor": 0
}