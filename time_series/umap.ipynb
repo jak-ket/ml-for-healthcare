{
  "cells": [
    {
      "cell_type": "markdown",
      "source": [
        "# Transfer Learning and UMAP for CNN Encoder"
      ],
      "metadata": {
        "id": "9pmHSmQHFi_q"
      },
      "id": "9pmHSmQHFi_q"
    },
    {
      "cell_type": "markdown",
      "source": [
        "The embeddings are stored under https://polybox.ethz.ch/index.php/s/bu0w5P5x9DHU86G"
      ],
      "metadata": {
        "id": "cTBi3m2eFvtv"
      },
      "id": "cTBi3m2eFvtv"
    },
    {
      "cell_type": "code",
      "execution_count": null,
      "id": "73a532d5-404e-4354-be6d-8e86721d69f9",
      "metadata": {
        "id": "73a532d5-404e-4354-be6d-8e86721d69f9"
      },
      "outputs": [],
      "source": [
        "import sys\n",
        "import numpy as np\n",
        "import pandas as pd\n",
        "import matplotlib.pyplot as plt\n",
        "from sklearn.metrics import precision_score, recall_score, f1_score\n",
        "from setsloaders import create_datasets, create_loaders, create_loaders_umap, draw_umap\n",
        "from umap import UMAP\n",
        "\n",
        "# append the filepath to where torch is installed\n",
        "sys.path.append('/home/username/.local/lib/python3.10/site-packages')\n",
        "# sys.path.append('/home/millerm/.local/lib/python3.10/site-packages')\n",
        "\n",
        "import torch\n",
        "import torch.nn as nn\n",
        "import torch.optim as optim"
      ]
    },
    {
      "cell_type": "markdown",
      "id": "3c33deb2-ddef-4962-8668-6f014a37a211",
      "metadata": {
        "id": "3c33deb2-ddef-4962-8668-6f014a37a211"
      },
      "source": [
        "## Load and Preprocess Data"
      ]
    },
    {
      "cell_type": "code",
      "execution_count": null,
      "id": "191c36a0-add3-40a1-8b3e-7897ea3320aa",
      "metadata": {
        "id": "191c36a0-add3-40a1-8b3e-7897ea3320aa",
        "outputId": "cb030493-1f9f-496f-f21f-0d1c70f96531"
      },
      "outputs": [
        {
          "data": {
            "text/plain": [
              "(array([0., 1., 2., 3., 4.]), array([72471,  2223,  5788,   641,  6431]))"
            ]
          },
          "execution_count": 2,
          "metadata": {},
          "output_type": "execute_result"
        }
      ],
      "source": [
        "file_name = \"ml4h_data/project2/project2_TS_input/mitbih_train.csv\"\n",
        "df_train = pd.read_csv(file_name,header=None)\n",
        "x_train = df_train.iloc[:, df_train.columns != 187]\n",
        "x_train = x_train.values.reshape(-1, 1, 187)\n",
        "train_target = df_train.iloc[:, 187]\n",
        "train_target = train_target.values\n",
        "np.unique(train_target,return_counts=True)"
      ]
    },
    {
      "cell_type": "code",
      "execution_count": null,
      "id": "a57fd855-b5f1-4f08-bdfb-22018c00959a",
      "metadata": {
        "id": "a57fd855-b5f1-4f08-bdfb-22018c00959a",
        "outputId": "aada14eb-1175-41c8-a8c2-c93bbd9c937c"
      },
      "outputs": [
        {
          "data": {
            "text/plain": [
              "(array([0., 1., 2., 3., 4.]), array([18118,   556,  1448,   162,  1608]))"
            ]
          },
          "execution_count": 3,
          "metadata": {},
          "output_type": "execute_result"
        }
      ],
      "source": [
        "file_name = \"ml4h_data/project2/project2_TS_input/mitbih_test.csv\"\n",
        "df_test = pd.read_csv(file_name,header=None)\n",
        "x_test = df_test.iloc[:, df_test.columns != 187]\n",
        "x_test = x_test.values.reshape(-1, 1, 187)\n",
        "test_target = df_test.iloc[:, 187]\n",
        "test_target = test_target.values\n",
        "np.unique(test_target,return_counts=True)"
      ]
    },
    {
      "cell_type": "code",
      "execution_count": null,
      "id": "cc27673a-4867-46a5-a1d0-f1386030362f",
      "metadata": {
        "id": "cc27673a-4867-46a5-a1d0-f1386030362f",
        "outputId": "8b07512f-539e-467d-b519-c0fe9a05ae8c"
      },
      "outputs": [
        {
          "data": {
            "text/plain": [
              "device(type='cuda')"
            ]
          },
          "execution_count": 4,
          "metadata": {},
          "output_type": "execute_result"
        }
      ],
      "source": [
        "device = torch.device('cuda') if torch.cuda.is_available() else torch.device('cpu')\n",
        "device"
      ]
    },
    {
      "cell_type": "code",
      "execution_count": null,
      "id": "0ce30b44-64ac-413d-bd56-c7a9143e1692",
      "metadata": {
        "id": "0ce30b44-64ac-413d-bd56-c7a9143e1692"
      },
      "outputs": [],
      "source": [
        "datasets = create_datasets(x_train, x_test, train_target, test_target, seed=123)\n",
        "trn_dl, val_dl, tst_dl = create_loaders(datasets, bs=256)"
      ]
    },
    {
      "cell_type": "markdown",
      "id": "dd4f8b57-8547-4f98-9346-64da8b50e38b",
      "metadata": {
        "id": "dd4f8b57-8547-4f98-9346-64da8b50e38b"
      },
      "source": [
        "## Load and Train Model"
      ]
    },
    {
      "cell_type": "code",
      "execution_count": null,
      "id": "114435f6-1d11-4a98-80e4-685d0038770d",
      "metadata": {
        "id": "114435f6-1d11-4a98-80e4-685d0038770d"
      },
      "outputs": [],
      "source": [
        "input_channels = 1\n",
        "num_classes = 5\n",
        "train_loader = trn_dl\n",
        "test_loader = tst_dl\n",
        "num_epochs = 30\n",
        "learning_rate = 0.005"
      ]
    },
    {
      "cell_type": "code",
      "execution_count": null,
      "id": "e81e7ffa-845d-4036-b658-0d67744a6542",
      "metadata": {
        "id": "e81e7ffa-845d-4036-b658-0d67744a6542"
      },
      "outputs": [],
      "source": [
        "class cnn(nn.Module):\n",
        "    def __init__(self, input_channels, num_classes):\n",
        "        super(cnn, self).__init__()\n",
        "        self.conv1 = nn.Conv1d(in_channels=input_channels, out_channels=64, kernel_size=3)\n",
        "        self.conv2 = nn.Conv1d(in_channels=64, out_channels=128, kernel_size=3)\n",
        "        self.conv3 = nn.Conv1d(in_channels=128, out_channels=256, kernel_size=3)\n",
        "        self.fc1 = nn.Linear(5376, 128)\n",
        "        self.fc2 = nn.Linear(128, num_classes)\n",
        "        self.relu = nn.ReLU()\n",
        "        self.pool = nn.MaxPool1d(kernel_size=2)\n",
        "\n",
        "    def forward(self, x, return_embedding=False):\n",
        "        x = self.relu(self.conv1(x))\n",
        "        x = self.pool(x)\n",
        "        x = self.relu(self.conv2(x))\n",
        "        x = self.pool(x)\n",
        "        x = self.relu(self.conv3(x))\n",
        "        x = self.pool(x)\n",
        "        x = torch.flatten(x, 1)\n",
        "\n",
        "        embedding = self.relu(self.fc1(x))\n",
        "\n",
        "        if return_embedding:\n",
        "            return embedding\n",
        "\n",
        "        x = self.fc2(embedding)\n",
        "        return x\n",
        "\n",
        "model = cnn(input_channels, num_classes).to(device)"
      ]
    },
    {
      "cell_type": "code",
      "execution_count": null,
      "id": "7f48ac7e-59e5-4c3d-bdc2-3b6bd086fe6d",
      "metadata": {
        "id": "7f48ac7e-59e5-4c3d-bdc2-3b6bd086fe6d"
      },
      "outputs": [],
      "source": [
        "model = torch.load(\"models/vanillacnn.pth\")\n",
        "model = model.to(device)"
      ]
    },
    {
      "cell_type": "code",
      "execution_count": null,
      "id": "5072bfd3-6284-44c9-b4f9-c1c967c5ad1d",
      "metadata": {
        "id": "5072bfd3-6284-44c9-b4f9-c1c967c5ad1d"
      },
      "outputs": [],
      "source": [
        "model.fc2 = nn.Linear(128, 5, bias=True).to(device)"
      ]
    },
    {
      "cell_type": "code",
      "execution_count": null,
      "id": "a74781fb-5f35-43ed-8fea-f0a276cd34d7",
      "metadata": {
        "id": "a74781fb-5f35-43ed-8fea-f0a276cd34d7",
        "outputId": "bb7de1e8-dd54-4b02-810f-660fbf3f04ca"
      },
      "outputs": [
        {
          "name": "stdout",
          "output_type": "stream",
          "text": [
            "cnn(\n",
            "  (conv1): Conv1d(1, 64, kernel_size=(3,), stride=(1,))\n",
            "  (conv2): Conv1d(64, 128, kernel_size=(3,), stride=(1,))\n",
            "  (conv3): Conv1d(128, 256, kernel_size=(3,), stride=(1,))\n",
            "  (fc1): Linear(in_features=5376, out_features=128, bias=True)\n",
            "  (fc2): Linear(in_features=128, out_features=5, bias=True)\n",
            "  (relu): ReLU()\n",
            "  (pool): MaxPool1d(kernel_size=2, stride=2, padding=0, dilation=1, ceil_mode=False)\n",
            ")\n"
          ]
        }
      ],
      "source": [
        "print(model)"
      ]
    },
    {
      "cell_type": "code",
      "execution_count": null,
      "id": "800f0e11-57ef-47c1-939e-edb86d5ef22f",
      "metadata": {
        "id": "800f0e11-57ef-47c1-939e-edb86d5ef22f",
        "outputId": "fa82cecf-b69e-49cd-a5c0-b8ed2f58466c"
      },
      "outputs": [
        {
          "name": "stdout",
          "output_type": "stream",
          "text": [
            "Epoch: 0, Loss: 0.049815043807029724\n",
            "Epoch: 1, Loss: 0.060355279594659805\n",
            "Epoch: 2, Loss: 0.04427352547645569\n",
            "Epoch: 3, Loss: 0.04481777548789978\n",
            "Epoch: 4, Loss: 0.021129000931978226\n",
            "Epoch: 5, Loss: 0.03254224359989166\n",
            "Epoch: 6, Loss: 0.04945102706551552\n",
            "Epoch: 7, Loss: 0.03206166625022888\n",
            "Epoch: 8, Loss: 0.0032818750478327274\n",
            "Epoch: 9, Loss: 0.040182117372751236\n",
            "Epoch: 10, Loss: 0.009713441133499146\n",
            "Epoch: 11, Loss: 0.012603596784174442\n",
            "Epoch: 12, Loss: 0.0328601598739624\n",
            "Epoch: 13, Loss: 0.008240501396358013\n",
            "Epoch: 14, Loss: 0.03278488665819168\n",
            "Epoch: 15, Loss: 0.007132796570658684\n",
            "Epoch: 16, Loss: 0.0127171715721488\n",
            "Epoch: 17, Loss: 0.004398918244987726\n",
            "Epoch: 18, Loss: 0.013920842669904232\n",
            "Epoch: 19, Loss: 0.013094858266413212\n",
            "Epoch: 20, Loss: 0.017962563782930374\n",
            "Epoch: 21, Loss: 0.005441781599074602\n",
            "Epoch: 22, Loss: 0.008679995313286781\n",
            "Epoch: 23, Loss: 0.01496509462594986\n",
            "Epoch: 24, Loss: 0.01852482743561268\n",
            "Epoch: 25, Loss: 0.05827183276414871\n",
            "Epoch: 26, Loss: 0.011026183143258095\n",
            "Epoch: 27, Loss: 0.009770733304321766\n",
            "Epoch: 28, Loss: 0.018830152228474617\n",
            "Epoch: 29, Loss: 0.0037074873689562082\n",
            "Accuracy: 98.05%\n"
          ]
        }
      ],
      "source": [
        "criterion = nn.CrossEntropyLoss()\n",
        "optimizer = optim.AdamW(model.parameters(), lr=learning_rate)\n",
        "\n",
        "for epoch in range(num_epochs):\n",
        "    model.train()\n",
        "    for inputs, labels in train_loader:\n",
        "        inputs, labels = inputs.to(device), labels.to(device)\n",
        "\n",
        "        optimizer.zero_grad()\n",
        "        outputs = model(inputs)\n",
        "        loss = criterion(outputs, labels)\n",
        "        loss.backward()\n",
        "        optimizer.step()\n",
        "    print(f\"Epoch: {epoch}, Loss: {loss}\")\n",
        "\n",
        "model.eval()\n",
        "predictions = []\n",
        "with torch.no_grad():\n",
        "    correct = 0\n",
        "    total = 0\n",
        "    for inputs, labels in test_loader:\n",
        "        inputs, labels = inputs.to(device), labels.to(device)\n",
        "        outputs = model(inputs)\n",
        "        _, predicted = torch.max(outputs.data, 1)\n",
        "        total += labels.size(0)\n",
        "        correct += (predicted == labels).sum().item()\n",
        "        predicted = predicted.to(\"cpu\")\n",
        "        predictions = np.append(predictions,predicted)\n",
        "\n",
        "    accuracy = 100 * correct / total\n",
        "    print('Accuracy: {:.2f}%'.format(accuracy))"
      ]
    },
    {
      "cell_type": "code",
      "execution_count": null,
      "id": "db583e3b-2acc-477d-9e2f-ac1a1a87cdca",
      "metadata": {
        "id": "db583e3b-2acc-477d-9e2f-ac1a1a87cdca",
        "outputId": "5ba1c64d-351a-4ec1-d418-491445346dba"
      },
      "outputs": [
        {
          "name": "stdout",
          "output_type": "stream",
          "text": [
            "Precision: 0.91\n",
            "Recall: 0.89\n",
            "F1-Score: 0.90\n"
          ]
        }
      ],
      "source": [
        "model.eval()\n",
        "predictions = []\n",
        "ground_truth = []\n",
        "\n",
        "with torch.no_grad():\n",
        "    for inputs, labels in test_loader:\n",
        "        inputs, labels = inputs.to(device), labels.to(device)\n",
        "        outputs = model(inputs)\n",
        "        _, predicted = torch.max(outputs.data, 1)\n",
        "        predictions.extend(predicted.cpu().numpy())\n",
        "        ground_truth.extend(labels.cpu().numpy())\n",
        "\n",
        "predictions = np.array(predictions)\n",
        "ground_truth = np.array(ground_truth)\n",
        "\n",
        "precision = precision_score(ground_truth, predictions, average=\"macro\")\n",
        "recall = recall_score(ground_truth, predictions, average=\"macro\")\n",
        "f1 = f1_score(ground_truth, predictions, average=\"macro\")\n",
        "\n",
        "print('Precision: {:.2f}'.format(precision))\n",
        "print('Recall: {:.2f}'.format(recall))\n",
        "print('F1-Score: {:.2f}'.format(f1))"
      ]
    },
    {
      "cell_type": "code",
      "execution_count": null,
      "id": "492c4d7f-c128-4d75-8474-c2ce61fa1579",
      "metadata": {
        "id": "492c4d7f-c128-4d75-8474-c2ce61fa1579"
      },
      "outputs": [],
      "source": [
        "torch.save(model, \"models/transfercnn.pth\")"
      ]
    },
    {
      "cell_type": "markdown",
      "id": "8070a64e-fe20-43f3-a371-eba475b2f553",
      "metadata": {
        "id": "8070a64e-fe20-43f3-a371-eba475b2f553"
      },
      "source": [
        "## Create Dataloaders"
      ]
    },
    {
      "cell_type": "code",
      "execution_count": null,
      "id": "fdba967a-fc7c-4e97-847c-82853bea6294",
      "metadata": {
        "id": "fdba967a-fc7c-4e97-847c-82853bea6294",
        "outputId": "075fa033-a3dc-41d9-f10d-9cc6219ea1f1"
      },
      "outputs": [
        {
          "data": {
            "text/plain": [
              "array([1., 1., 0., ..., 1., 1., 1.])"
            ]
          },
          "execution_count": 14,
          "metadata": {},
          "output_type": "execute_result"
        }
      ],
      "source": [
        "file_name = \"ml4h_data/project2/project2_TS_input/ptbdb_train.csv\"\n",
        "df_train = pd.read_csv(file_name,header=None)\n",
        "x_train = df_train.iloc[:, df_train.columns != 187]\n",
        "x_train_ptb = x_train.values.reshape(-1, 1, 187)\n",
        "train_target = df_train.iloc[:, 187]\n",
        "train_target_ptb = train_target.values\n",
        "train_target_ptb"
      ]
    },
    {
      "cell_type": "code",
      "execution_count": null,
      "id": "3f15d863-d0b7-489c-b873-6f2132719069",
      "metadata": {
        "id": "3f15d863-d0b7-489c-b873-6f2132719069",
        "outputId": "4c046fdc-e0bd-4546-baf1-42f9be860fc9"
      },
      "outputs": [
        {
          "data": {
            "text/plain": [
              "array([0., 1., 0., ..., 1., 1., 0.])"
            ]
          },
          "execution_count": 15,
          "metadata": {},
          "output_type": "execute_result"
        }
      ],
      "source": [
        "file_name = \"ml4h_data/project2/project2_TS_input/ptbdb_test.csv\"\n",
        "df_test = pd.read_csv(file_name,header=None)\n",
        "x_test = df_test.iloc[:, df_test.columns != 187]\n",
        "x_test_ptb = x_test.values.reshape(-1, 1, 187)\n",
        "test_target = df_test.iloc[:, 187]\n",
        "test_target_ptb = test_target.values\n",
        "test_target_ptb"
      ]
    },
    {
      "cell_type": "code",
      "execution_count": null,
      "id": "980a6bd3-0daf-44cc-aeda-34b0cf2c5f0a",
      "metadata": {
        "id": "980a6bd3-0daf-44cc-aeda-34b0cf2c5f0a",
        "outputId": "c18a430e-c2b9-4c6d-9b9c-67193cdebbfd"
      },
      "outputs": [
        {
          "data": {
            "text/plain": [
              "array([0., 0., 0., ..., 4., 4., 4.])"
            ]
          },
          "execution_count": 16,
          "metadata": {},
          "output_type": "execute_result"
        }
      ],
      "source": [
        "file_name = \"ml4h_data/project2/project2_TS_input/mitbih_train.csv\"\n",
        "df_train = pd.read_csv(file_name,header=None)\n",
        "x_train = df_train.iloc[:, df_train.columns != 187]\n",
        "x_train_mit = x_train.values.reshape(-1, 1, 187)\n",
        "train_target = df_train.iloc[:, 187]\n",
        "train_target_mit = train_target.values\n",
        "train_target_mit"
      ]
    },
    {
      "cell_type": "code",
      "execution_count": null,
      "id": "023f9226-846c-444c-b1ad-5a0e88c8771f",
      "metadata": {
        "id": "023f9226-846c-444c-b1ad-5a0e88c8771f",
        "outputId": "20839124-bf51-4400-efb0-016961a328e3"
      },
      "outputs": [
        {
          "data": {
            "text/plain": [
              "array([0., 0., 0., ..., 4., 4., 4.])"
            ]
          },
          "execution_count": 17,
          "metadata": {},
          "output_type": "execute_result"
        }
      ],
      "source": [
        "file_name = \"ml4h_data/project2/project2_TS_input/mitbih_test.csv\"\n",
        "df_test = pd.read_csv(file_name,header=None)\n",
        "x_test = df_test.iloc[:, df_test.columns != 187]\n",
        "x_test_mit = x_test.values.reshape(-1, 1, 187)\n",
        "test_target = df_test.iloc[:, 187]\n",
        "test_target_mit = test_target.values\n",
        "test_target_mit"
      ]
    },
    {
      "cell_type": "code",
      "execution_count": null,
      "id": "c7847c9b-0bd0-48d4-a23b-147d4fcb5943",
      "metadata": {
        "id": "c7847c9b-0bd0-48d4-a23b-147d4fcb5943"
      },
      "outputs": [],
      "source": [
        "datasets_ptb = create_datasets(x_train_ptb, x_test_ptb, train_target_ptb, test_target_ptb, seed=123)\n",
        "trn_dl_ptb, val_dl_ptb, tst_dl_ptb = create_loaders_umap(datasets_ptb, bs=128)\n",
        "\n",
        "datasets_mit = create_datasets(x_train_mit, x_test_mit, train_target_mit, test_target_mit, seed=123)\n",
        "trn_dl_mit, val_dl_mit, tst_dl_mit = create_loaders_umap(datasets_mit, bs=128)"
      ]
    },
    {
      "cell_type": "code",
      "execution_count": null,
      "id": "81b46023-e2c9-44d5-b500-c47f40ead80b",
      "metadata": {
        "id": "81b46023-e2c9-44d5-b500-c47f40ead80b"
      },
      "outputs": [],
      "source": [
        "train_loader_ptb = trn_dl_ptb\n",
        "test_loader_ptb = tst_dl_ptb\n",
        "train_loader_mit = trn_dl_mit\n",
        "test_loader_mit = tst_dl_mit"
      ]
    },
    {
      "cell_type": "code",
      "execution_count": null,
      "id": "758bbd67-894f-4b5d-9b70-6b5e4614a3fc",
      "metadata": {
        "id": "758bbd67-894f-4b5d-9b70-6b5e4614a3fc"
      },
      "outputs": [],
      "source": [
        "palette = {0: \"red\",\n",
        "           1: \"blue\",\n",
        "           2: \"green\",\n",
        "           3: \"yellow\",\n",
        "           4: \"purple\"\n",
        "          }\n",
        "colors_ptb_train = [palette[label] for label in train_target_ptb]\n",
        "colors_mit_train = [palette[label] for label in train_target_mit]\n",
        "colors_ptb_test = [palette[label] for label in test_target_ptb]\n",
        "colors_mit_test = [palette[label] for label in test_target_mit]"
      ]
    },
    {
      "cell_type": "markdown",
      "id": "dd071a48-ad98-4818-94c3-2cf5d1be4b49",
      "metadata": {
        "id": "dd071a48-ad98-4818-94c3-2cf5d1be4b49"
      },
      "source": [
        "## Fine-Tune Model"
      ]
    },
    {
      "cell_type": "code",
      "execution_count": null,
      "id": "bbeb7227-0ebd-4823-9c44-74e78835bd4b",
      "metadata": {
        "id": "bbeb7227-0ebd-4823-9c44-74e78835bd4b"
      },
      "outputs": [],
      "source": [
        "model = torch.load(\"models/transfercnn.pth\")\n",
        "model_ptb = model.to(device)\n",
        "model_mit = model.to(device)\n",
        "model_ptb.fc2 = nn.Linear(128, 2, bias=True).to(device)"
      ]
    },
    {
      "cell_type": "code",
      "execution_count": null,
      "id": "551334ae-bb62-402f-9718-a5d29846a637",
      "metadata": {
        "id": "551334ae-bb62-402f-9718-a5d29846a637"
      },
      "outputs": [],
      "source": [
        "ptb_train = torch.tensor(x_train_ptb).float().to(device)\n",
        "ptb_test = torch.tensor(x_test_ptb).float().to(device)\n",
        "mit_train = torch.tensor(x_train_mit).float().to(device)\n",
        "split = int(mit_train.shape[0] / 2)\n",
        "mit_train_1 = mit_train[:split, :, :]\n",
        "mit_train_2 = mit_train[split:, :, :]\n",
        "mit_test = torch.tensor(x_test_mit).float().to(device)\n",
        "\n",
        "model_ptb.eval()\n",
        "with torch.no_grad():\n",
        "    ptb_train_embeddings = model_ptb(ptb_train, return_embedding=True).cpu().numpy()\n",
        "    ptb_test_embeddings = model_ptb(ptb_test, return_embedding=True).cpu().numpy()\n",
        "model_mit.eval()\n",
        "with torch.no_grad():\n",
        "    mit_train_embeddings_1 = model_mit(mit_train_1, return_embedding=True).cpu().numpy()\n",
        "    mit_train_embeddings_2 = model_mit(mit_train_2, return_embedding=True).cpu().numpy()\n",
        "    mit_test_embeddings = model_mit(mit_test, return_embedding=True).cpu().numpy()\n",
        "\n",
        "mit_train_embeddings = np.vstack((mit_train_embeddings_1, mit_train_embeddings_2))"
      ]
    },
    {
      "cell_type": "code",
      "execution_count": null,
      "id": "cc0246cc-ea4b-4ccd-9bcf-2a98e886933a",
      "metadata": {
        "id": "cc0246cc-ea4b-4ccd-9bcf-2a98e886933a"
      },
      "outputs": [],
      "source": [
        "np.save('data/ptb_train_embeddings.npy', ptb_train_embeddings)\n",
        "np.save('data/ptb_test_embeddings.npy', ptb_test_embeddings)\n",
        "np.save('data/mit_train_embeddings.npy', mit_train_embeddings)\n",
        "np.save('data/mit_test_embeddings.npy', mit_test_embeddings)"
      ]
    },
    {
      "cell_type": "code",
      "execution_count": null,
      "id": "cfad9184-27e5-4a98-9454-2833b2b00aa4",
      "metadata": {
        "id": "cfad9184-27e5-4a98-9454-2833b2b00aa4"
      },
      "outputs": [],
      "source": [
        "def draw_umap(embeddings, colors, name_ds, train, s = 2, alpha = 0.5, random_state = 42):\n",
        "    n_neighbors_values = [5, 15, 35]\n",
        "    min_dist_values = [0.1, 0.5, 0.9]\n",
        "\n",
        "    fig, axs = plt.subplots(3, 3, figsize=(18, 18))\n",
        "    fig.suptitle(name_ds)\n",
        "\n",
        "    for i, n_neighbors in enumerate(n_neighbors_values):\n",
        "        for j, min_dist in enumerate(min_dist_values):\n",
        "            emb = UMAP(n_neighbors = n_neighbors, min_dist = min_dist, random_state = random_state).fit_transform(embeddings)\n",
        "\n",
        "            axs[i, j].scatter(emb[:, 0], emb[:, 1], c = colors, s = s, alpha = alpha)\n",
        "            axs[i, j].set_title('{}: n_neighbors={}, min_dist={}'.format(name_ds, n_neighbors, min_dist))\n",
        "            axs[i, j].set_xlabel('Dimension 1')\n",
        "            axs[i, j].set_ylabel('Dimension 2')\n",
        "            print('n_neighbors={}, min_dist={}'.format(n_neighbors, min_dist))\n",
        "\n",
        "    if train == True:\n",
        "        train = \"train\"\n",
        "    else:\n",
        "        train = \"test\"\n",
        "\n",
        "    plt.tight_layout()\n",
        "    plt.savefig(f\"plots/umap_{name_ds}_{train}.png\")\n",
        "    plt.close()"
      ]
    },
    {
      "cell_type": "code",
      "execution_count": null,
      "id": "f376337c-bb5c-46b9-8a08-999a63c52615",
      "metadata": {
        "id": "f376337c-bb5c-46b9-8a08-999a63c52615"
      },
      "outputs": [],
      "source": [
        "mit_train_embeddings = np.load('data/mit_train_embeddings.npy')\n",
        "mit_test_embeddings = np.load('data/mit_test_embeddings.npy')\n",
        "ptb_train_embeddings = np.load('data/ptb_train_embeddings.npy')\n",
        "ptb_test_embeddings = np.load('data/ptb_test_embeddings.npy')"
      ]
    },
    {
      "cell_type": "code",
      "execution_count": null,
      "id": "82b785a2-80c9-4c77-911f-ac5256c75d88",
      "metadata": {
        "id": "82b785a2-80c9-4c77-911f-ac5256c75d88",
        "outputId": "5ff9b544-751b-4c62-b7a1-f16e5ec0cedc"
      },
      "outputs": [
        {
          "name": "stderr",
          "output_type": "stream",
          "text": [
            "/cluster/courses/ml4h/jupyter/lib/python3.10/site-packages/umap/umap_.py:1945: UserWarning: n_jobs value 1 overridden to 1 by setting random_state. Use no seed for parallelism.\n",
            "  warn(f\"n_jobs value {self.n_jobs} overridden to 1 by setting random_state. Use no seed for parallelism.\")\n",
            "/cluster/courses/ml4h/jupyter/lib/python3.10/site-packages/numba/np/ufunc/parallel.py:371: NumbaWarning: The TBB threading layer requires TBB version 2021 update 6 or later i.e., TBB_INTERFACE_VERSION >= 12060. Found TBB_INTERFACE_VERSION = 12050. The TBB threading layer is disabled.\n",
            "  warnings.warn(problem)\n"
          ]
        },
        {
          "name": "stdout",
          "output_type": "stream",
          "text": [
            "n_neighbors=5, min_dist=0.1\n"
          ]
        },
        {
          "name": "stderr",
          "output_type": "stream",
          "text": [
            "/cluster/courses/ml4h/jupyter/lib/python3.10/site-packages/umap/umap_.py:1945: UserWarning: n_jobs value 1 overridden to 1 by setting random_state. Use no seed for parallelism.\n",
            "  warn(f\"n_jobs value {self.n_jobs} overridden to 1 by setting random_state. Use no seed for parallelism.\")\n"
          ]
        },
        {
          "name": "stdout",
          "output_type": "stream",
          "text": [
            "n_neighbors=5, min_dist=0.5\n"
          ]
        },
        {
          "name": "stderr",
          "output_type": "stream",
          "text": [
            "/cluster/courses/ml4h/jupyter/lib/python3.10/site-packages/umap/umap_.py:1945: UserWarning: n_jobs value 1 overridden to 1 by setting random_state. Use no seed for parallelism.\n",
            "  warn(f\"n_jobs value {self.n_jobs} overridden to 1 by setting random_state. Use no seed for parallelism.\")\n"
          ]
        },
        {
          "name": "stdout",
          "output_type": "stream",
          "text": [
            "n_neighbors=5, min_dist=0.9\n"
          ]
        },
        {
          "name": "stderr",
          "output_type": "stream",
          "text": [
            "/cluster/courses/ml4h/jupyter/lib/python3.10/site-packages/umap/umap_.py:1945: UserWarning: n_jobs value 1 overridden to 1 by setting random_state. Use no seed for parallelism.\n",
            "  warn(f\"n_jobs value {self.n_jobs} overridden to 1 by setting random_state. Use no seed for parallelism.\")\n"
          ]
        },
        {
          "name": "stdout",
          "output_type": "stream",
          "text": [
            "n_neighbors=15, min_dist=0.1\n"
          ]
        },
        {
          "name": "stderr",
          "output_type": "stream",
          "text": [
            "/cluster/courses/ml4h/jupyter/lib/python3.10/site-packages/umap/umap_.py:1945: UserWarning: n_jobs value 1 overridden to 1 by setting random_state. Use no seed for parallelism.\n",
            "  warn(f\"n_jobs value {self.n_jobs} overridden to 1 by setting random_state. Use no seed for parallelism.\")\n"
          ]
        },
        {
          "name": "stdout",
          "output_type": "stream",
          "text": [
            "n_neighbors=15, min_dist=0.5\n"
          ]
        },
        {
          "name": "stderr",
          "output_type": "stream",
          "text": [
            "/cluster/courses/ml4h/jupyter/lib/python3.10/site-packages/umap/umap_.py:1945: UserWarning: n_jobs value 1 overridden to 1 by setting random_state. Use no seed for parallelism.\n",
            "  warn(f\"n_jobs value {self.n_jobs} overridden to 1 by setting random_state. Use no seed for parallelism.\")\n"
          ]
        },
        {
          "name": "stdout",
          "output_type": "stream",
          "text": [
            "n_neighbors=15, min_dist=0.9\n"
          ]
        },
        {
          "name": "stderr",
          "output_type": "stream",
          "text": [
            "/cluster/courses/ml4h/jupyter/lib/python3.10/site-packages/umap/umap_.py:1945: UserWarning: n_jobs value 1 overridden to 1 by setting random_state. Use no seed for parallelism.\n",
            "  warn(f\"n_jobs value {self.n_jobs} overridden to 1 by setting random_state. Use no seed for parallelism.\")\n"
          ]
        },
        {
          "name": "stdout",
          "output_type": "stream",
          "text": [
            "n_neighbors=35, min_dist=0.1\n"
          ]
        },
        {
          "name": "stderr",
          "output_type": "stream",
          "text": [
            "/cluster/courses/ml4h/jupyter/lib/python3.10/site-packages/umap/umap_.py:1945: UserWarning: n_jobs value 1 overridden to 1 by setting random_state. Use no seed for parallelism.\n",
            "  warn(f\"n_jobs value {self.n_jobs} overridden to 1 by setting random_state. Use no seed for parallelism.\")\n"
          ]
        },
        {
          "name": "stdout",
          "output_type": "stream",
          "text": [
            "n_neighbors=35, min_dist=0.5\n"
          ]
        },
        {
          "name": "stderr",
          "output_type": "stream",
          "text": [
            "/cluster/courses/ml4h/jupyter/lib/python3.10/site-packages/umap/umap_.py:1945: UserWarning: n_jobs value 1 overridden to 1 by setting random_state. Use no seed for parallelism.\n",
            "  warn(f\"n_jobs value {self.n_jobs} overridden to 1 by setting random_state. Use no seed for parallelism.\")\n"
          ]
        },
        {
          "name": "stdout",
          "output_type": "stream",
          "text": [
            "n_neighbors=35, min_dist=0.9\n"
          ]
        }
      ],
      "source": [
        "draw_umap(ptb_test_embeddings, colors_ptb_test, \"PTB\", False)"
      ]
    },
    {
      "cell_type": "code",
      "execution_count": null,
      "id": "00d08dc0-fdb4-41a8-9795-4fe0c61d7761",
      "metadata": {
        "id": "00d08dc0-fdb4-41a8-9795-4fe0c61d7761",
        "outputId": "84dace23-c18e-48aa-e6da-306511f66044"
      },
      "outputs": [
        {
          "name": "stderr",
          "output_type": "stream",
          "text": [
            "/cluster/courses/ml4h/jupyter/lib/python3.10/site-packages/umap/umap_.py:1945: UserWarning: n_jobs value 1 overridden to 1 by setting random_state. Use no seed for parallelism.\n",
            "  warn(f\"n_jobs value {self.n_jobs} overridden to 1 by setting random_state. Use no seed for parallelism.\")\n"
          ]
        },
        {
          "name": "stdout",
          "output_type": "stream",
          "text": [
            "n_neighbors=5, min_dist=0.1\n"
          ]
        },
        {
          "name": "stderr",
          "output_type": "stream",
          "text": [
            "/cluster/courses/ml4h/jupyter/lib/python3.10/site-packages/umap/umap_.py:1945: UserWarning: n_jobs value 1 overridden to 1 by setting random_state. Use no seed for parallelism.\n",
            "  warn(f\"n_jobs value {self.n_jobs} overridden to 1 by setting random_state. Use no seed for parallelism.\")\n"
          ]
        },
        {
          "name": "stdout",
          "output_type": "stream",
          "text": [
            "n_neighbors=5, min_dist=0.5\n"
          ]
        },
        {
          "name": "stderr",
          "output_type": "stream",
          "text": [
            "/cluster/courses/ml4h/jupyter/lib/python3.10/site-packages/umap/umap_.py:1945: UserWarning: n_jobs value 1 overridden to 1 by setting random_state. Use no seed for parallelism.\n",
            "  warn(f\"n_jobs value {self.n_jobs} overridden to 1 by setting random_state. Use no seed for parallelism.\")\n"
          ]
        },
        {
          "name": "stdout",
          "output_type": "stream",
          "text": [
            "n_neighbors=5, min_dist=0.9\n"
          ]
        },
        {
          "name": "stderr",
          "output_type": "stream",
          "text": [
            "/cluster/courses/ml4h/jupyter/lib/python3.10/site-packages/umap/umap_.py:1945: UserWarning: n_jobs value 1 overridden to 1 by setting random_state. Use no seed for parallelism.\n",
            "  warn(f\"n_jobs value {self.n_jobs} overridden to 1 by setting random_state. Use no seed for parallelism.\")\n"
          ]
        },
        {
          "name": "stdout",
          "output_type": "stream",
          "text": [
            "n_neighbors=15, min_dist=0.1\n"
          ]
        },
        {
          "name": "stderr",
          "output_type": "stream",
          "text": [
            "/cluster/courses/ml4h/jupyter/lib/python3.10/site-packages/umap/umap_.py:1945: UserWarning: n_jobs value 1 overridden to 1 by setting random_state. Use no seed for parallelism.\n",
            "  warn(f\"n_jobs value {self.n_jobs} overridden to 1 by setting random_state. Use no seed for parallelism.\")\n"
          ]
        },
        {
          "name": "stdout",
          "output_type": "stream",
          "text": [
            "n_neighbors=15, min_dist=0.5\n"
          ]
        },
        {
          "name": "stderr",
          "output_type": "stream",
          "text": [
            "/cluster/courses/ml4h/jupyter/lib/python3.10/site-packages/umap/umap_.py:1945: UserWarning: n_jobs value 1 overridden to 1 by setting random_state. Use no seed for parallelism.\n",
            "  warn(f\"n_jobs value {self.n_jobs} overridden to 1 by setting random_state. Use no seed for parallelism.\")\n"
          ]
        },
        {
          "name": "stdout",
          "output_type": "stream",
          "text": [
            "n_neighbors=15, min_dist=0.9\n"
          ]
        },
        {
          "name": "stderr",
          "output_type": "stream",
          "text": [
            "/cluster/courses/ml4h/jupyter/lib/python3.10/site-packages/umap/umap_.py:1945: UserWarning: n_jobs value 1 overridden to 1 by setting random_state. Use no seed for parallelism.\n",
            "  warn(f\"n_jobs value {self.n_jobs} overridden to 1 by setting random_state. Use no seed for parallelism.\")\n"
          ]
        },
        {
          "name": "stdout",
          "output_type": "stream",
          "text": [
            "n_neighbors=35, min_dist=0.1\n"
          ]
        },
        {
          "name": "stderr",
          "output_type": "stream",
          "text": [
            "/cluster/courses/ml4h/jupyter/lib/python3.10/site-packages/umap/umap_.py:1945: UserWarning: n_jobs value 1 overridden to 1 by setting random_state. Use no seed for parallelism.\n",
            "  warn(f\"n_jobs value {self.n_jobs} overridden to 1 by setting random_state. Use no seed for parallelism.\")\n"
          ]
        },
        {
          "name": "stdout",
          "output_type": "stream",
          "text": [
            "n_neighbors=35, min_dist=0.5\n"
          ]
        },
        {
          "name": "stderr",
          "output_type": "stream",
          "text": [
            "/cluster/courses/ml4h/jupyter/lib/python3.10/site-packages/umap/umap_.py:1945: UserWarning: n_jobs value 1 overridden to 1 by setting random_state. Use no seed for parallelism.\n",
            "  warn(f\"n_jobs value {self.n_jobs} overridden to 1 by setting random_state. Use no seed for parallelism.\")\n"
          ]
        },
        {
          "name": "stdout",
          "output_type": "stream",
          "text": [
            "n_neighbors=35, min_dist=0.9\n"
          ]
        }
      ],
      "source": [
        "draw_umap(ptb_train_embeddings, colors_ptb_train, \"PTB\", True)"
      ]
    },
    {
      "cell_type": "code",
      "execution_count": null,
      "id": "9e066165-7b18-474d-80a1-441bace06817",
      "metadata": {
        "id": "9e066165-7b18-474d-80a1-441bace06817",
        "outputId": "dee7e9f1-2221-44f5-f4e8-22001f1976d3"
      },
      "outputs": [
        {
          "name": "stderr",
          "output_type": "stream",
          "text": [
            "/cluster/courses/ml4h/jupyter/lib/python3.10/site-packages/umap/umap_.py:1945: UserWarning: n_jobs value 1 overridden to 1 by setting random_state. Use no seed for parallelism.\n",
            "  warn(f\"n_jobs value {self.n_jobs} overridden to 1 by setting random_state. Use no seed for parallelism.\")\n"
          ]
        },
        {
          "name": "stdout",
          "output_type": "stream",
          "text": [
            "n_neighbors=5, min_dist=0.1\n"
          ]
        },
        {
          "name": "stderr",
          "output_type": "stream",
          "text": [
            "/cluster/courses/ml4h/jupyter/lib/python3.10/site-packages/umap/umap_.py:1945: UserWarning: n_jobs value 1 overridden to 1 by setting random_state. Use no seed for parallelism.\n",
            "  warn(f\"n_jobs value {self.n_jobs} overridden to 1 by setting random_state. Use no seed for parallelism.\")\n"
          ]
        },
        {
          "name": "stdout",
          "output_type": "stream",
          "text": [
            "n_neighbors=5, min_dist=0.5\n"
          ]
        },
        {
          "name": "stderr",
          "output_type": "stream",
          "text": [
            "/cluster/courses/ml4h/jupyter/lib/python3.10/site-packages/umap/umap_.py:1945: UserWarning: n_jobs value 1 overridden to 1 by setting random_state. Use no seed for parallelism.\n",
            "  warn(f\"n_jobs value {self.n_jobs} overridden to 1 by setting random_state. Use no seed for parallelism.\")\n"
          ]
        },
        {
          "name": "stdout",
          "output_type": "stream",
          "text": [
            "n_neighbors=5, min_dist=0.9\n"
          ]
        },
        {
          "name": "stderr",
          "output_type": "stream",
          "text": [
            "/cluster/courses/ml4h/jupyter/lib/python3.10/site-packages/umap/umap_.py:1945: UserWarning: n_jobs value 1 overridden to 1 by setting random_state. Use no seed for parallelism.\n",
            "  warn(f\"n_jobs value {self.n_jobs} overridden to 1 by setting random_state. Use no seed for parallelism.\")\n"
          ]
        },
        {
          "name": "stdout",
          "output_type": "stream",
          "text": [
            "n_neighbors=15, min_dist=0.1\n"
          ]
        },
        {
          "name": "stderr",
          "output_type": "stream",
          "text": [
            "/cluster/courses/ml4h/jupyter/lib/python3.10/site-packages/umap/umap_.py:1945: UserWarning: n_jobs value 1 overridden to 1 by setting random_state. Use no seed for parallelism.\n",
            "  warn(f\"n_jobs value {self.n_jobs} overridden to 1 by setting random_state. Use no seed for parallelism.\")\n"
          ]
        },
        {
          "name": "stdout",
          "output_type": "stream",
          "text": [
            "n_neighbors=15, min_dist=0.5\n"
          ]
        },
        {
          "name": "stderr",
          "output_type": "stream",
          "text": [
            "/cluster/courses/ml4h/jupyter/lib/python3.10/site-packages/umap/umap_.py:1945: UserWarning: n_jobs value 1 overridden to 1 by setting random_state. Use no seed for parallelism.\n",
            "  warn(f\"n_jobs value {self.n_jobs} overridden to 1 by setting random_state. Use no seed for parallelism.\")\n"
          ]
        },
        {
          "name": "stdout",
          "output_type": "stream",
          "text": [
            "n_neighbors=15, min_dist=0.9\n"
          ]
        },
        {
          "name": "stderr",
          "output_type": "stream",
          "text": [
            "/cluster/courses/ml4h/jupyter/lib/python3.10/site-packages/umap/umap_.py:1945: UserWarning: n_jobs value 1 overridden to 1 by setting random_state. Use no seed for parallelism.\n",
            "  warn(f\"n_jobs value {self.n_jobs} overridden to 1 by setting random_state. Use no seed for parallelism.\")\n"
          ]
        },
        {
          "name": "stdout",
          "output_type": "stream",
          "text": [
            "n_neighbors=35, min_dist=0.1\n"
          ]
        },
        {
          "name": "stderr",
          "output_type": "stream",
          "text": [
            "/cluster/courses/ml4h/jupyter/lib/python3.10/site-packages/umap/umap_.py:1945: UserWarning: n_jobs value 1 overridden to 1 by setting random_state. Use no seed for parallelism.\n",
            "  warn(f\"n_jobs value {self.n_jobs} overridden to 1 by setting random_state. Use no seed for parallelism.\")\n"
          ]
        },
        {
          "name": "stdout",
          "output_type": "stream",
          "text": [
            "n_neighbors=35, min_dist=0.5\n"
          ]
        },
        {
          "name": "stderr",
          "output_type": "stream",
          "text": [
            "/cluster/courses/ml4h/jupyter/lib/python3.10/site-packages/umap/umap_.py:1945: UserWarning: n_jobs value 1 overridden to 1 by setting random_state. Use no seed for parallelism.\n",
            "  warn(f\"n_jobs value {self.n_jobs} overridden to 1 by setting random_state. Use no seed for parallelism.\")\n"
          ]
        },
        {
          "name": "stdout",
          "output_type": "stream",
          "text": [
            "n_neighbors=35, min_dist=0.9\n"
          ]
        }
      ],
      "source": [
        "draw_umap(mit_train_embeddings, colors_mit_train, \"MIT\", True)"
      ]
    },
    {
      "cell_type": "code",
      "execution_count": null,
      "id": "d00edd52-800b-49a0-9ea2-dd47d15eed60",
      "metadata": {
        "id": "d00edd52-800b-49a0-9ea2-dd47d15eed60",
        "outputId": "916b1c5d-dd27-444d-9645-0a837e1d20cb"
      },
      "outputs": [
        {
          "name": "stderr",
          "output_type": "stream",
          "text": [
            "/cluster/courses/ml4h/jupyter/lib/python3.10/site-packages/umap/umap_.py:1945: UserWarning: n_jobs value 1 overridden to 1 by setting random_state. Use no seed for parallelism.\n",
            "  warn(f\"n_jobs value {self.n_jobs} overridden to 1 by setting random_state. Use no seed for parallelism.\")\n"
          ]
        },
        {
          "name": "stdout",
          "output_type": "stream",
          "text": [
            "n_neighbors=5, min_dist=0.1\n"
          ]
        },
        {
          "name": "stderr",
          "output_type": "stream",
          "text": [
            "/cluster/courses/ml4h/jupyter/lib/python3.10/site-packages/umap/umap_.py:1945: UserWarning: n_jobs value 1 overridden to 1 by setting random_state. Use no seed for parallelism.\n",
            "  warn(f\"n_jobs value {self.n_jobs} overridden to 1 by setting random_state. Use no seed for parallelism.\")\n"
          ]
        },
        {
          "name": "stdout",
          "output_type": "stream",
          "text": [
            "n_neighbors=5, min_dist=0.5\n"
          ]
        },
        {
          "name": "stderr",
          "output_type": "stream",
          "text": [
            "/cluster/courses/ml4h/jupyter/lib/python3.10/site-packages/umap/umap_.py:1945: UserWarning: n_jobs value 1 overridden to 1 by setting random_state. Use no seed for parallelism.\n",
            "  warn(f\"n_jobs value {self.n_jobs} overridden to 1 by setting random_state. Use no seed for parallelism.\")\n"
          ]
        },
        {
          "name": "stdout",
          "output_type": "stream",
          "text": [
            "n_neighbors=5, min_dist=0.9\n"
          ]
        },
        {
          "name": "stderr",
          "output_type": "stream",
          "text": [
            "/cluster/courses/ml4h/jupyter/lib/python3.10/site-packages/umap/umap_.py:1945: UserWarning: n_jobs value 1 overridden to 1 by setting random_state. Use no seed for parallelism.\n",
            "  warn(f\"n_jobs value {self.n_jobs} overridden to 1 by setting random_state. Use no seed for parallelism.\")\n"
          ]
        },
        {
          "name": "stdout",
          "output_type": "stream",
          "text": [
            "n_neighbors=15, min_dist=0.1\n"
          ]
        },
        {
          "name": "stderr",
          "output_type": "stream",
          "text": [
            "/cluster/courses/ml4h/jupyter/lib/python3.10/site-packages/umap/umap_.py:1945: UserWarning: n_jobs value 1 overridden to 1 by setting random_state. Use no seed for parallelism.\n",
            "  warn(f\"n_jobs value {self.n_jobs} overridden to 1 by setting random_state. Use no seed for parallelism.\")\n"
          ]
        },
        {
          "name": "stdout",
          "output_type": "stream",
          "text": [
            "n_neighbors=15, min_dist=0.5\n"
          ]
        },
        {
          "name": "stderr",
          "output_type": "stream",
          "text": [
            "/cluster/courses/ml4h/jupyter/lib/python3.10/site-packages/umap/umap_.py:1945: UserWarning: n_jobs value 1 overridden to 1 by setting random_state. Use no seed for parallelism.\n",
            "  warn(f\"n_jobs value {self.n_jobs} overridden to 1 by setting random_state. Use no seed for parallelism.\")\n"
          ]
        },
        {
          "name": "stdout",
          "output_type": "stream",
          "text": [
            "n_neighbors=15, min_dist=0.9\n"
          ]
        },
        {
          "name": "stderr",
          "output_type": "stream",
          "text": [
            "/cluster/courses/ml4h/jupyter/lib/python3.10/site-packages/umap/umap_.py:1945: UserWarning: n_jobs value 1 overridden to 1 by setting random_state. Use no seed for parallelism.\n",
            "  warn(f\"n_jobs value {self.n_jobs} overridden to 1 by setting random_state. Use no seed for parallelism.\")\n"
          ]
        },
        {
          "name": "stdout",
          "output_type": "stream",
          "text": [
            "n_neighbors=35, min_dist=0.1\n"
          ]
        },
        {
          "name": "stderr",
          "output_type": "stream",
          "text": [
            "/cluster/courses/ml4h/jupyter/lib/python3.10/site-packages/umap/umap_.py:1945: UserWarning: n_jobs value 1 overridden to 1 by setting random_state. Use no seed for parallelism.\n",
            "  warn(f\"n_jobs value {self.n_jobs} overridden to 1 by setting random_state. Use no seed for parallelism.\")\n"
          ]
        },
        {
          "name": "stdout",
          "output_type": "stream",
          "text": [
            "n_neighbors=35, min_dist=0.5\n"
          ]
        },
        {
          "name": "stderr",
          "output_type": "stream",
          "text": [
            "/cluster/courses/ml4h/jupyter/lib/python3.10/site-packages/umap/umap_.py:1945: UserWarning: n_jobs value 1 overridden to 1 by setting random_state. Use no seed for parallelism.\n",
            "  warn(f\"n_jobs value {self.n_jobs} overridden to 1 by setting random_state. Use no seed for parallelism.\")\n"
          ]
        },
        {
          "name": "stdout",
          "output_type": "stream",
          "text": [
            "n_neighbors=35, min_dist=0.9\n"
          ]
        }
      ],
      "source": [
        "draw_umap(mit_test_embeddings, colors_mit_test, \"MIT\", False)"
      ]
    }
  ],
  "metadata": {
    "kernelspec": {
      "display_name": "Python 3 (ipykernel)",
      "language": "python",
      "name": "python3"
    },
    "language_info": {
      "codemirror_mode": {
        "name": "ipython",
        "version": 3
      },
      "file_extension": ".py",
      "mimetype": "text/x-python",
      "name": "python",
      "nbconvert_exporter": "python",
      "pygments_lexer": "ipython3",
      "version": "3.10.12"
    },
    "colab": {
      "provenance": []
    }
  },
  "nbformat": 4,
  "nbformat_minor": 5
}