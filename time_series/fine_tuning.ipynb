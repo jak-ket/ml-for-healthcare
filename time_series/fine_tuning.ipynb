{
 "cells": [
  {
   "cell_type": "markdown",
   "metadata": {},
   "source": [
    "# Q4: Finetuning Strategies"
   ]
  },
  {
   "cell_type": "markdown",
   "metadata": {},
   "source": [
    "#### 1. Classic ML\n",
    "Similar to Q3, \n",
    "- obtain representations for the PTB dataset by feeding the dataset through the pre-trained encoder \n",
    "- Use a classic ML method from Part 1 to train and test for the PTB task using these representations"
   ]
  },
  {
   "cell_type": "code",
   "execution_count": null,
   "metadata": {
    "vscode": {
     "languageId": "plaintext"
    }
   },
   "outputs": [],
   "source": []
  },
  {
   "cell_type": "markdown",
   "metadata": {},
   "source": [
    "#### 2. ANNs\n",
    "Add output layer(s) for the PTB binary class to your encoder model. Implement the following finetuning strategies\n",
    "- Train the output layer(s) only on the PTB dataset, freezing the encoder\n",
    "- Train the entire model on the PTB dataset (encoder + output layers).\n",
    "- First, train the output layers, then unfreeze and train the entire joint model in two\n",
    "separate stages."
   ]
  },
  {
   "cell_type": "code",
   "execution_count": null,
   "metadata": {
    "vscode": {
     "languageId": "plaintext"
    }
   },
   "outputs": [],
   "source": []
  },
  {
   "cell_type": "markdown",
   "metadata": {},
   "source": [
    "#### 3. Further Questions\n",
    "- In all cases, report performance on the PTB test dataset using the same metric(s) as in Part 1\n",
    "and summarize the metrics in a single table. \n",
    "- Comment on potential differences in performance over Part 1 results (1 pt). \n",
    "- Which of the above fine-tuning strategies performs best and why? (2pts) \n",
    "- Which of the two pre-training strategies considered (transfer learning vs. representation\n",
    "learning) performs best and why? (2pts)"
   ]
  }
 ],
 "metadata": {
  "language_info": {
   "name": "python"
  }
 },
 "nbformat": 4,
 "nbformat_minor": 2
}
