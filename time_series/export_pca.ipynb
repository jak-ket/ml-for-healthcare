{
 "cells": [
  {
   "cell_type": "code",
   "execution_count": 1,
   "id": "73a532d5-404e-4354-be6d-8e86721d69f9",
   "metadata": {},
   "outputs": [],
   "source": [
    "import sys\n",
    "import numpy as np\n",
    "import pandas as pd\n",
    "import matplotlib.pyplot as plt\n",
    "from matplotlib.colors import LinearSegmentedColormap, ListedColormap\n",
    "from sklearn.metrics import precision_score, recall_score, f1_score, confusion_matrix, ConfusionMatrixDisplay\n",
    "import seaborn as sns\n",
    "from umap import UMAP\n",
    "\n",
    "# append the filepath to where torch is installed\n",
    "sys.path.append('/home/millerm/.local/lib/python3.10/site-packages')\n",
    "# sys.path.append('/home/username/.local/lib/python3.10/site-packages')\n",
    "\n",
    "import torch\n",
    "import torch.nn as nn\n",
    "import torch.optim as optim"
   ]
  },
  {
   "cell_type": "markdown",
   "id": "3c33deb2-ddef-4962-8668-6f014a37a211",
   "metadata": {},
   "source": [
    "## Load and Preprocess Data"
   ]
  },
  {
   "cell_type": "code",
   "execution_count": 2,
   "id": "191c36a0-add3-40a1-8b3e-7897ea3320aa",
   "metadata": {},
   "outputs": [
    {
     "data": {
      "text/plain": [
       "(array([0., 1., 2., 3., 4.]), array([72471,  2223,  5788,   641,  6431]))"
      ]
     },
     "execution_count": 2,
     "metadata": {},
     "output_type": "execute_result"
    }
   ],
   "source": [
    "file_name = \"ml4h_data/project2/project2_TS_input/mitbih_train.csv\"\n",
    "df_train = pd.read_csv(file_name,header=None)\n",
    "x_train = df_train.iloc[:, df_train.columns != 187]\n",
    "x_train = x_train.values.reshape(-1, 1, 187)\n",
    "train_target = df_train.iloc[:, 187]\n",
    "train_target = train_target.values\n",
    "np.unique(train_target,return_counts=True)"
   ]
  },
  {
   "cell_type": "code",
   "execution_count": 3,
   "id": "a57fd855-b5f1-4f08-bdfb-22018c00959a",
   "metadata": {},
   "outputs": [
    {
     "data": {
      "text/plain": [
       "(array([0., 1., 2., 3., 4.]), array([18118,   556,  1448,   162,  1608]))"
      ]
     },
     "execution_count": 3,
     "metadata": {},
     "output_type": "execute_result"
    }
   ],
   "source": [
    "file_name = \"ml4h_data/project2/project2_TS_input/mitbih_test.csv\"\n",
    "df_test = pd.read_csv(file_name,header=None)\n",
    "x_test = df_test.iloc[:, df_test.columns != 187]\n",
    "x_test = x_test.values.reshape(-1, 1, 187)\n",
    "test_target = df_test.iloc[:, 187]\n",
    "test_target = test_target.values\n",
    "np.unique(test_target,return_counts=True)"
   ]
  },
  {
   "cell_type": "code",
   "execution_count": 4,
   "id": "cc27673a-4867-46a5-a1d0-f1386030362f",
   "metadata": {},
   "outputs": [
    {
     "data": {
      "text/plain": [
       "device(type='cuda')"
      ]
     },
     "execution_count": 4,
     "metadata": {},
     "output_type": "execute_result"
    }
   ],
   "source": [
    "device = torch.device('cuda') if torch.cuda.is_available() else torch.device('cpu')\n",
    "device"
   ]
  },
  {
   "cell_type": "code",
   "execution_count": 5,
   "id": "da8e5a97-3edb-48df-95aa-b0d1338ff56b",
   "metadata": {},
   "outputs": [],
   "source": [
    "from setsloaders import create_datasets, create_loaders, extract_embeddings, create_loaders_umap"
   ]
  },
  {
   "cell_type": "code",
   "execution_count": 6,
   "id": "0ce30b44-64ac-413d-bd56-c7a9143e1692",
   "metadata": {},
   "outputs": [],
   "source": [
    "datasets = create_datasets(x_train, x_test, train_target, test_target, seed=123)\n",
    "trn_dl, val_dl, tst_dl = create_loaders(datasets, bs=256)"
   ]
  },
  {
   "cell_type": "markdown",
   "id": "dd4f8b57-8547-4f98-9346-64da8b50e38b",
   "metadata": {},
   "source": [
    "## Load and Train Model"
   ]
  },
  {
   "cell_type": "code",
   "execution_count": 7,
   "id": "114435f6-1d11-4a98-80e4-685d0038770d",
   "metadata": {},
   "outputs": [],
   "source": [
    "input_channels = 1\n",
    "num_classes = 5\n",
    "train_loader = trn_dl\n",
    "test_loader = tst_dl\n",
    "num_epochs = 30\n",
    "learning_rate = 0.005"
   ]
  },
  {
   "cell_type": "code",
   "execution_count": 8,
   "id": "e81e7ffa-845d-4036-b658-0d67744a6542",
   "metadata": {},
   "outputs": [],
   "source": [
    "class cnn(nn.Module):\n",
    "    def __init__(self, input_channels, num_classes):\n",
    "        super(cnn, self).__init__()\n",
    "        self.conv1 = nn.Conv1d(in_channels=input_channels, out_channels=64, kernel_size=3)\n",
    "        self.conv2 = nn.Conv1d(in_channels=64, out_channels=128, kernel_size=3)\n",
    "        self.conv3 = nn.Conv1d(in_channels=128, out_channels=256, kernel_size=3)\n",
    "        self.fc1 = nn.Linear(5376, 128)\n",
    "        self.fc2 = nn.Linear(128, num_classes)\n",
    "        self.relu = nn.ReLU()\n",
    "        self.pool = nn.MaxPool1d(kernel_size=2)\n",
    "\n",
    "    def forward(self, x, return_embedding=False):\n",
    "        x = self.relu(self.conv1(x))\n",
    "        x = self.pool(x)\n",
    "        x = self.relu(self.conv2(x))\n",
    "        x = self.pool(x)\n",
    "        x = self.relu(self.conv3(x))\n",
    "        x = self.pool(x)\n",
    "        x = torch.flatten(x, 1)\n",
    "\n",
    "        embedding = self.relu(self.fc1(x))\n",
    "        \n",
    "        if return_embedding:\n",
    "            return embedding\n",
    "        \n",
    "        x = self.fc2(embedding)\n",
    "        return x\n",
    "        \n",
    "model = cnn(input_channels, num_classes).to(device)"
   ]
  },
  {
   "cell_type": "code",
   "execution_count": 9,
   "id": "7f48ac7e-59e5-4c3d-bdc2-3b6bd086fe6d",
   "metadata": {},
   "outputs": [],
   "source": [
    "model = torch.load(\"models/vanillacnn.pth\")\n",
    "model = model.to(device)"
   ]
  },
  {
   "cell_type": "code",
   "execution_count": 10,
   "id": "5072bfd3-6284-44c9-b4f9-c1c967c5ad1d",
   "metadata": {},
   "outputs": [],
   "source": [
    "model.fc2 = nn.Linear(128, 5, bias=True).to(device)"
   ]
  },
  {
   "cell_type": "code",
   "execution_count": 11,
   "id": "a74781fb-5f35-43ed-8fea-f0a276cd34d7",
   "metadata": {},
   "outputs": [
    {
     "name": "stdout",
     "output_type": "stream",
     "text": [
      "cnn(\n",
      "  (conv1): Conv1d(1, 64, kernel_size=(3,), stride=(1,))\n",
      "  (conv2): Conv1d(64, 128, kernel_size=(3,), stride=(1,))\n",
      "  (conv3): Conv1d(128, 256, kernel_size=(3,), stride=(1,))\n",
      "  (fc1): Linear(in_features=5376, out_features=128, bias=True)\n",
      "  (fc2): Linear(in_features=128, out_features=5, bias=True)\n",
      "  (relu): ReLU()\n",
      "  (pool): MaxPool1d(kernel_size=2, stride=2, padding=0, dilation=1, ceil_mode=False)\n",
      ")\n"
     ]
    }
   ],
   "source": [
    "print(model)"
   ]
  },
  {
   "cell_type": "code",
   "execution_count": 12,
   "id": "800f0e11-57ef-47c1-939e-edb86d5ef22f",
   "metadata": {},
   "outputs": [
    {
     "name": "stdout",
     "output_type": "stream",
     "text": [
      "Epoch: 0, Loss: 0.08221717923879623\n",
      "Epoch: 1, Loss: 0.058855775743722916\n",
      "Epoch: 2, Loss: 0.07564529776573181\n",
      "Epoch: 3, Loss: 0.03269977122545242\n",
      "Epoch: 4, Loss: 0.10514610260725021\n",
      "Epoch: 5, Loss: 0.06999073922634125\n",
      "Epoch: 6, Loss: 0.04840806871652603\n",
      "Epoch: 7, Loss: 0.06549559533596039\n",
      "Epoch: 8, Loss: 0.06493660062551498\n",
      "Epoch: 9, Loss: 0.03941630944609642\n",
      "Epoch: 10, Loss: 0.010835655964910984\n",
      "Epoch: 11, Loss: 0.05383870378136635\n",
      "Epoch: 12, Loss: 0.0698729008436203\n",
      "Epoch: 13, Loss: 0.017901452258229256\n",
      "Epoch: 14, Loss: 0.012672904878854752\n",
      "Epoch: 15, Loss: 0.004023746121674776\n",
      "Epoch: 16, Loss: 0.01453409530222416\n",
      "Epoch: 17, Loss: 0.014010434970259666\n",
      "Epoch: 18, Loss: 0.07752593606710434\n",
      "Epoch: 19, Loss: 0.0048828632570803165\n",
      "Epoch: 20, Loss: 0.030944015830755234\n",
      "Epoch: 21, Loss: 0.0341845378279686\n",
      "Epoch: 22, Loss: 0.01114272978156805\n",
      "Epoch: 23, Loss: 0.036221787333488464\n",
      "Epoch: 24, Loss: 0.023520030081272125\n",
      "Epoch: 25, Loss: 0.00601602578535676\n",
      "Epoch: 26, Loss: 0.026221372187137604\n",
      "Epoch: 27, Loss: 0.0027195666916668415\n",
      "Epoch: 28, Loss: 0.010620919987559319\n",
      "Epoch: 29, Loss: 0.011725076474249363\n",
      "Accuracy: 98.22%\n"
     ]
    }
   ],
   "source": [
    "criterion = nn.CrossEntropyLoss()\n",
    "optimizer = optim.AdamW(model.parameters(), lr=learning_rate)\n",
    "\n",
    "for epoch in range(num_epochs):\n",
    "    model.train()\n",
    "    for inputs, labels in train_loader:\n",
    "        inputs, labels = inputs.to(device), labels.to(device)\n",
    "        \n",
    "        optimizer.zero_grad()\n",
    "        outputs = model(inputs)\n",
    "        loss = criterion(outputs, labels)\n",
    "        loss.backward()\n",
    "        optimizer.step()\n",
    "    print(f\"Epoch: {epoch}, Loss: {loss}\")\n",
    "        \n",
    "model.eval()\n",
    "predictions = []\n",
    "with torch.no_grad():\n",
    "    correct = 0\n",
    "    total = 0\n",
    "    for inputs, labels in test_loader:\n",
    "        inputs, labels = inputs.to(device), labels.to(device)\n",
    "        outputs = model(inputs)\n",
    "        _, predicted = torch.max(outputs.data, 1)\n",
    "        total += labels.size(0)\n",
    "        correct += (predicted == labels).sum().item()\n",
    "        #print(predicted,labels)\n",
    "        predicted = predicted.to(\"cpu\")\n",
    "        predictions = np.append(predictions,predicted)\n",
    "\n",
    "    accuracy = 100 * correct / total\n",
    "    print('Accuracy: {:.2f}%'.format(accuracy))"
   ]
  },
  {
   "cell_type": "code",
   "execution_count": 13,
   "id": "db583e3b-2acc-477d-9e2f-ac1a1a87cdca",
   "metadata": {},
   "outputs": [
    {
     "name": "stdout",
     "output_type": "stream",
     "text": [
      "Precision: 0.92\n",
      "Recall: 0.89\n",
      "F1-Score: 0.90\n"
     ]
    }
   ],
   "source": [
    "model.eval()\n",
    "predictions = []\n",
    "ground_truth = []\n",
    "\n",
    "with torch.no_grad():\n",
    "    for inputs, labels in test_loader:\n",
    "        inputs, labels = inputs.to(device), labels.to(device)\n",
    "        outputs = model(inputs)\n",
    "        _, predicted = torch.max(outputs.data, 1)\n",
    "        predictions.extend(predicted.cpu().numpy())\n",
    "        ground_truth.extend(labels.cpu().numpy())\n",
    "\n",
    "predictions = np.array(predictions)\n",
    "ground_truth = np.array(ground_truth)\n",
    "\n",
    "precision = precision_score(ground_truth, predictions, average=\"macro\")\n",
    "recall = recall_score(ground_truth, predictions, average=\"macro\")\n",
    "f1 = f1_score(ground_truth, predictions, average=\"macro\")\n",
    "\n",
    "print('Precision: {:.2f}'.format(precision))\n",
    "print('Recall: {:.2f}'.format(recall))\n",
    "print('F1-Score: {:.2f}'.format(f1))"
   ]
  },
  {
   "cell_type": "code",
   "execution_count": 14,
   "id": "492c4d7f-c128-4d75-8474-c2ce61fa1579",
   "metadata": {},
   "outputs": [],
   "source": [
    "torch.save(model, \"models/transfercnn_finetune_embedding_false.pth\")"
   ]
  },
  {
   "cell_type": "markdown",
   "id": "8070a64e-fe20-43f3-a371-eba475b2f553",
   "metadata": {},
   "source": [
    "## Create Dataloaders"
   ]
  },
  {
   "cell_type": "code",
   "execution_count": 12,
   "id": "fdba967a-fc7c-4e97-847c-82853bea6294",
   "metadata": {},
   "outputs": [
    {
     "data": {
      "text/plain": [
       "array([1., 1., 0., ..., 1., 1., 1.])"
      ]
     },
     "execution_count": 12,
     "metadata": {},
     "output_type": "execute_result"
    }
   ],
   "source": [
    "file_name = \"ml4h_data/project2/project2_TS_input/ptbdb_train.csv\"\n",
    "df_train = pd.read_csv(file_name,header=None)\n",
    "x_train = df_train.iloc[:, df_train.columns != 187]\n",
    "x_train_ptb = x_train.values.reshape(-1, 1, 187)\n",
    "train_target = df_train.iloc[:, 187]\n",
    "train_target_ptb = train_target.values\n",
    "train_target_ptb"
   ]
  },
  {
   "cell_type": "code",
   "execution_count": 13,
   "id": "3f15d863-d0b7-489c-b873-6f2132719069",
   "metadata": {},
   "outputs": [
    {
     "data": {
      "text/plain": [
       "array([0., 1., 0., ..., 1., 1., 0.])"
      ]
     },
     "execution_count": 13,
     "metadata": {},
     "output_type": "execute_result"
    }
   ],
   "source": [
    "file_name = \"ml4h_data/project2/project2_TS_input/ptbdb_test.csv\"\n",
    "df_test = pd.read_csv(file_name,header=None)\n",
    "x_test = df_test.iloc[:, df_test.columns != 187]\n",
    "x_test_ptb = x_test.values.reshape(-1, 1, 187)\n",
    "test_target = df_test.iloc[:, 187]\n",
    "test_target_ptb = test_target.values\n",
    "test_target_ptb"
   ]
  },
  {
   "cell_type": "code",
   "execution_count": 14,
   "id": "980a6bd3-0daf-44cc-aeda-34b0cf2c5f0a",
   "metadata": {},
   "outputs": [
    {
     "data": {
      "text/plain": [
       "array([0., 0., 0., ..., 4., 4., 4.])"
      ]
     },
     "execution_count": 14,
     "metadata": {},
     "output_type": "execute_result"
    }
   ],
   "source": [
    "file_name = \"ml4h_data/project2/project2_TS_input/mitbih_train.csv\"\n",
    "df_train = pd.read_csv(file_name,header=None)\n",
    "x_train = df_train.iloc[:, df_train.columns != 187]\n",
    "x_train_mit = x_train.values.reshape(-1, 1, 187)\n",
    "train_target = df_train.iloc[:, 187]\n",
    "train_target_mit = train_target.values\n",
    "train_target_mit"
   ]
  },
  {
   "cell_type": "code",
   "execution_count": 15,
   "id": "023f9226-846c-444c-b1ad-5a0e88c8771f",
   "metadata": {},
   "outputs": [
    {
     "data": {
      "text/plain": [
       "array([0., 0., 0., ..., 4., 4., 4.])"
      ]
     },
     "execution_count": 15,
     "metadata": {},
     "output_type": "execute_result"
    }
   ],
   "source": [
    "file_name = \"ml4h_data/project2/project2_TS_input/mitbih_test.csv\"\n",
    "df_test = pd.read_csv(file_name,header=None)\n",
    "x_test = df_test.iloc[:, df_test.columns != 187]\n",
    "x_test_mit = x_test.values.reshape(-1, 1, 187)\n",
    "test_target = df_test.iloc[:, 187]\n",
    "test_target_mit = test_target.values\n",
    "test_target_mit"
   ]
  },
  {
   "cell_type": "code",
   "execution_count": 16,
   "id": "c7847c9b-0bd0-48d4-a23b-147d4fcb5943",
   "metadata": {},
   "outputs": [],
   "source": [
    "datasets_ptb = create_datasets(x_train_ptb, x_test_ptb, train_target_ptb, test_target_ptb, seed=123)\n",
    "trn_dl_ptb, val_dl_ptb, tst_dl_ptb = create_loaders_umap(datasets_ptb, bs=128)\n",
    "\n",
    "datasets_mit = create_datasets(x_train_mit, x_test_mit, train_target_mit, test_target_mit, seed=123)\n",
    "trn_dl_mit, val_dl_mit, tst_dl_mit = create_loaders_umap(datasets_mit, bs=128)"
   ]
  },
  {
   "cell_type": "code",
   "execution_count": 17,
   "id": "81b46023-e2c9-44d5-b500-c47f40ead80b",
   "metadata": {},
   "outputs": [],
   "source": [
    "train_loader_ptb = trn_dl_ptb\n",
    "test_loader_ptb = tst_dl_ptb\n",
    "train_loader_mit = trn_dl_mit\n",
    "test_loader_mit = tst_dl_mit"
   ]
  },
  {
   "cell_type": "code",
   "execution_count": 18,
   "id": "98f39e18-28cf-4374-8f26-c99a85f11975",
   "metadata": {},
   "outputs": [],
   "source": [
    "all_labels_ptb_train = []\n",
    "for images, labels in train_loader_ptb:\n",
    "    all_labels_ptb_train.extend(labels.tolist())\n",
    "\n",
    "all_labels_ptb_test = []\n",
    "for images, labels in test_loader_ptb:\n",
    "    all_labels_ptb_test.extend(labels.tolist())"
   ]
  },
  {
   "cell_type": "code",
   "execution_count": 19,
   "id": "6f59c275-29b9-4c6d-8c8a-48b00ebd32c6",
   "metadata": {},
   "outputs": [],
   "source": [
    "all_labels_mit_train = []\n",
    "for images, labels in test_loader_mit:\n",
    "    all_labels_mit_train.extend(labels.tolist())\n",
    "\n",
    "all_labels_mit_test = []\n",
    "for images, labels in test_loader_mit:\n",
    "    all_labels_mit_test.extend(labels.tolist())"
   ]
  },
  {
   "cell_type": "code",
   "execution_count": 21,
   "id": "758bbd67-894f-4b5d-9b70-6b5e4614a3fc",
   "metadata": {},
   "outputs": [],
   "source": [
    "palette = {0: \"red\",\n",
    "           1: \"blue\",\n",
    "           2: \"green\",\n",
    "           3: \"yellow\",\n",
    "           4: \"purple\"\n",
    "          }\n",
    "colors_ptb_train = [palette[label] for label in train_target_ptb]\n",
    "colors_mit_train = [palette[label] for label in train_target_mit]\n",
    "colors_ptb_test = [palette[label] for label in test_target_ptb]\n",
    "colors_mit_test = [palette[label] for label in test_target_mit]"
   ]
  },
  {
   "cell_type": "markdown",
   "id": "dd071a48-ad98-4818-94c3-2cf5d1be4b49",
   "metadata": {},
   "source": [
    "## Fine-Tune Model"
   ]
  },
  {
   "cell_type": "code",
   "execution_count": 22,
   "id": "bbeb7227-0ebd-4823-9c44-74e78835bd4b",
   "metadata": {},
   "outputs": [],
   "source": [
    "model = torch.load(\"models/transfercnn_finetune_embedding_false.pth\")\n",
    "model_ptb = model.to(device)\n",
    "model_mit = model.to(device)\n",
    "model_ptb.fc2 = nn.Linear(128, 2, bias=True).to(device)"
   ]
  },
  {
   "cell_type": "code",
   "execution_count": 40,
   "id": "551334ae-bb62-402f-9718-a5d29846a637",
   "metadata": {},
   "outputs": [],
   "source": [
    "ptb_train = torch.tensor(x_train_ptb).float().to(device)\n",
    "ptb_test = torch.tensor(x_test_ptb).float().to(device)\n",
    "mit_train = torch.tensor(x_train_mit).float().to(device)\n",
    "split = int(mit_train.shape[0] / 2)\n",
    "mit_train_1 = mit_train[:split, :, :]\n",
    "mit_train_2 = mit_train[split:, :, :]\n",
    "mit_test = torch.tensor(x_test_mit).float().to(device)\n",
    "\n",
    "model_ptb.eval()\n",
    "with torch.no_grad():\n",
    "    ptb_train_embeddings = model_ptb(ptb_train, return_embedding=True).cpu().numpy()\n",
    "    ptb_test_embeddings = model_ptb(ptb_test, return_embedding=True).cpu().numpy()\n",
    "model_mit.eval()\n",
    "with torch.no_grad():\n",
    "    mit_train_embeddings_1 = model_mit(mit_train_1, return_embedding=True).cpu().numpy()\n",
    "    mit_train_embeddings_2 = model_mit(mit_train_2, return_embedding=True).cpu().numpy()\n",
    "    mit_test_embeddings = model_mit(mit_test, return_embedding=True).cpu().numpy()\n",
    "\n",
    "mit_train_embeddings = np.vstack((mit_train_embeddings_1, mit_train_embeddings_2))"
   ]
  },
  {
   "cell_type": "code",
   "execution_count": 41,
   "id": "cc0246cc-ea4b-4ccd-9bcf-2a98e886933a",
   "metadata": {},
   "outputs": [],
   "source": [
    "np.save('data/ptb_train_embeddings.npy', ptb_train_embeddings)\n",
    "np.save('data/ptb_test_embeddings.npy', ptb_test_embeddings)\n",
    "np.save('data/mit_train_embeddings.npy', mit_train_embeddings)\n",
    "np.save('data/mit_test_embeddings.npy', mit_test_embeddings)"
   ]
  },
  {
   "cell_type": "code",
   "execution_count": 45,
   "id": "cfad9184-27e5-4a98-9454-2833b2b00aa4",
   "metadata": {},
   "outputs": [],
   "source": [
    "def draw_umap(embeddings, colors, name_ds, train, s = 2, alpha = 0.5, random_state = 42):\n",
    "    n_neighbors_values = [5, 15, 35]\n",
    "    min_dist_values = [0.1, 0.5, 0.9]\n",
    "    \n",
    "    fig, axs = plt.subplots(3, 3, figsize=(18, 18))\n",
    "    fig.suptitle(\"PTB\")\n",
    "\n",
    "    for i, n_neighbors in enumerate(n_neighbors_values):\n",
    "        for j, min_dist in enumerate(min_dist_values):\n",
    "            emb = UMAP(n_neighbors = n_neighbors, min_dist = min_dist, random_state = random_state).fit_transform(embeddings)\n",
    "            \n",
    "            axs[i, j].scatter(emb[:, 0], emb[:, 1], c = colors, s = s, alpha = alpha)\n",
    "            axs[i, j].set_title('{}: n_neighbors={}, min_dist={}'.format(name_ds, n_neighbors, min_dist))\n",
    "            axs[i, j].set_xlabel('Dimension 1')\n",
    "            axs[i, j].set_ylabel('Dimension 2')\n",
    "            print('n_neighbors={}, min_dist={}'.format(n_neighbors, min_dist))\n",
    "\n",
    "    if train == True:\n",
    "        train = \"train\"\n",
    "    else:\n",
    "        train = \"test\"\n",
    "\n",
    "    plt.tight_layout()\n",
    "    plt.savefig(f\"plots/umap_{name_ds}_{train}.png\")\n",
    "    plt.close()"
   ]
  },
  {
   "cell_type": "code",
   "execution_count": 23,
   "id": "f376337c-bb5c-46b9-8a08-999a63c52615",
   "metadata": {},
   "outputs": [],
   "source": [
    "mit_train_embeddings = np.load('data/mit_train_embeddings.npy')\n",
    "mit_test_embeddings = np.load('data/mit_test_embeddings.npy')\n",
    "ptb_train_embeddings = np.load('data/ptb_train_embeddings.npy')\n",
    "ptb_test_embeddings = np.load('data/ptb_test_embeddings.npy')"
   ]
  },
  {
   "cell_type": "code",
   "execution_count": 44,
   "id": "82b785a2-80c9-4c77-911f-ac5256c75d88",
   "metadata": {},
   "outputs": [
    {
     "name": "stderr",
     "output_type": "stream",
     "text": [
      "/cluster/courses/ml4h/jupyter/lib/python3.10/site-packages/umap/umap_.py:1945: UserWarning: n_jobs value 1 overridden to 1 by setting random_state. Use no seed for parallelism.\n",
      "  warn(f\"n_jobs value {self.n_jobs} overridden to 1 by setting random_state. Use no seed for parallelism.\")\n"
     ]
    },
    {
     "name": "stdout",
     "output_type": "stream",
     "text": [
      "n_neighbors=5, min_dist=0.1\n"
     ]
    },
    {
     "name": "stderr",
     "output_type": "stream",
     "text": [
      "/cluster/courses/ml4h/jupyter/lib/python3.10/site-packages/umap/umap_.py:1945: UserWarning: n_jobs value 1 overridden to 1 by setting random_state. Use no seed for parallelism.\n",
      "  warn(f\"n_jobs value {self.n_jobs} overridden to 1 by setting random_state. Use no seed for parallelism.\")\n"
     ]
    },
    {
     "name": "stdout",
     "output_type": "stream",
     "text": [
      "n_neighbors=5, min_dist=0.5\n"
     ]
    },
    {
     "name": "stderr",
     "output_type": "stream",
     "text": [
      "/cluster/courses/ml4h/jupyter/lib/python3.10/site-packages/umap/umap_.py:1945: UserWarning: n_jobs value 1 overridden to 1 by setting random_state. Use no seed for parallelism.\n",
      "  warn(f\"n_jobs value {self.n_jobs} overridden to 1 by setting random_state. Use no seed for parallelism.\")\n"
     ]
    },
    {
     "name": "stdout",
     "output_type": "stream",
     "text": [
      "n_neighbors=5, min_dist=0.9\n"
     ]
    },
    {
     "name": "stderr",
     "output_type": "stream",
     "text": [
      "/cluster/courses/ml4h/jupyter/lib/python3.10/site-packages/umap/umap_.py:1945: UserWarning: n_jobs value 1 overridden to 1 by setting random_state. Use no seed for parallelism.\n",
      "  warn(f\"n_jobs value {self.n_jobs} overridden to 1 by setting random_state. Use no seed for parallelism.\")\n"
     ]
    },
    {
     "name": "stdout",
     "output_type": "stream",
     "text": [
      "n_neighbors=15, min_dist=0.1\n"
     ]
    },
    {
     "name": "stderr",
     "output_type": "stream",
     "text": [
      "/cluster/courses/ml4h/jupyter/lib/python3.10/site-packages/umap/umap_.py:1945: UserWarning: n_jobs value 1 overridden to 1 by setting random_state. Use no seed for parallelism.\n",
      "  warn(f\"n_jobs value {self.n_jobs} overridden to 1 by setting random_state. Use no seed for parallelism.\")\n"
     ]
    },
    {
     "name": "stdout",
     "output_type": "stream",
     "text": [
      "n_neighbors=15, min_dist=0.5\n"
     ]
    },
    {
     "name": "stderr",
     "output_type": "stream",
     "text": [
      "/cluster/courses/ml4h/jupyter/lib/python3.10/site-packages/umap/umap_.py:1945: UserWarning: n_jobs value 1 overridden to 1 by setting random_state. Use no seed for parallelism.\n",
      "  warn(f\"n_jobs value {self.n_jobs} overridden to 1 by setting random_state. Use no seed for parallelism.\")\n"
     ]
    },
    {
     "name": "stdout",
     "output_type": "stream",
     "text": [
      "n_neighbors=15, min_dist=0.9\n"
     ]
    },
    {
     "name": "stderr",
     "output_type": "stream",
     "text": [
      "/cluster/courses/ml4h/jupyter/lib/python3.10/site-packages/umap/umap_.py:1945: UserWarning: n_jobs value 1 overridden to 1 by setting random_state. Use no seed for parallelism.\n",
      "  warn(f\"n_jobs value {self.n_jobs} overridden to 1 by setting random_state. Use no seed for parallelism.\")\n"
     ]
    },
    {
     "name": "stdout",
     "output_type": "stream",
     "text": [
      "n_neighbors=35, min_dist=0.1\n"
     ]
    },
    {
     "name": "stderr",
     "output_type": "stream",
     "text": [
      "/cluster/courses/ml4h/jupyter/lib/python3.10/site-packages/umap/umap_.py:1945: UserWarning: n_jobs value 1 overridden to 1 by setting random_state. Use no seed for parallelism.\n",
      "  warn(f\"n_jobs value {self.n_jobs} overridden to 1 by setting random_state. Use no seed for parallelism.\")\n"
     ]
    },
    {
     "name": "stdout",
     "output_type": "stream",
     "text": [
      "n_neighbors=35, min_dist=0.5\n"
     ]
    },
    {
     "name": "stderr",
     "output_type": "stream",
     "text": [
      "/cluster/courses/ml4h/jupyter/lib/python3.10/site-packages/umap/umap_.py:1945: UserWarning: n_jobs value 1 overridden to 1 by setting random_state. Use no seed for parallelism.\n",
      "  warn(f\"n_jobs value {self.n_jobs} overridden to 1 by setting random_state. Use no seed for parallelism.\")\n"
     ]
    },
    {
     "name": "stdout",
     "output_type": "stream",
     "text": [
      "n_neighbors=35, min_dist=0.9\n"
     ]
    }
   ],
   "source": [
    "draw_umap(ptb_test_embeddings, colors_ptb_test, \"PTB\", False)"
   ]
  },
  {
   "cell_type": "code",
   "execution_count": null,
   "id": "00d08dc0-fdb4-41a8-9795-4fe0c61d7761",
   "metadata": {},
   "outputs": [
    {
     "name": "stderr",
     "output_type": "stream",
     "text": [
      "/cluster/courses/ml4h/jupyter/lib/python3.10/site-packages/umap/umap_.py:1945: UserWarning: n_jobs value 1 overridden to 1 by setting random_state. Use no seed for parallelism.\n",
      "  warn(f\"n_jobs value {self.n_jobs} overridden to 1 by setting random_state. Use no seed for parallelism.\")\n"
     ]
    },
    {
     "name": "stdout",
     "output_type": "stream",
     "text": [
      "n_neighbors=5, min_dist=0.1\n"
     ]
    },
    {
     "name": "stderr",
     "output_type": "stream",
     "text": [
      "/cluster/courses/ml4h/jupyter/lib/python3.10/site-packages/umap/umap_.py:1945: UserWarning: n_jobs value 1 overridden to 1 by setting random_state. Use no seed for parallelism.\n",
      "  warn(f\"n_jobs value {self.n_jobs} overridden to 1 by setting random_state. Use no seed for parallelism.\")\n"
     ]
    },
    {
     "name": "stdout",
     "output_type": "stream",
     "text": [
      "n_neighbors=5, min_dist=0.5\n"
     ]
    },
    {
     "name": "stderr",
     "output_type": "stream",
     "text": [
      "/cluster/courses/ml4h/jupyter/lib/python3.10/site-packages/umap/umap_.py:1945: UserWarning: n_jobs value 1 overridden to 1 by setting random_state. Use no seed for parallelism.\n",
      "  warn(f\"n_jobs value {self.n_jobs} overridden to 1 by setting random_state. Use no seed for parallelism.\")\n"
     ]
    },
    {
     "name": "stdout",
     "output_type": "stream",
     "text": [
      "n_neighbors=5, min_dist=0.9\n"
     ]
    },
    {
     "name": "stderr",
     "output_type": "stream",
     "text": [
      "/cluster/courses/ml4h/jupyter/lib/python3.10/site-packages/umap/umap_.py:1945: UserWarning: n_jobs value 1 overridden to 1 by setting random_state. Use no seed for parallelism.\n",
      "  warn(f\"n_jobs value {self.n_jobs} overridden to 1 by setting random_state. Use no seed for parallelism.\")\n"
     ]
    },
    {
     "name": "stdout",
     "output_type": "stream",
     "text": [
      "n_neighbors=15, min_dist=0.1\n"
     ]
    },
    {
     "name": "stderr",
     "output_type": "stream",
     "text": [
      "/cluster/courses/ml4h/jupyter/lib/python3.10/site-packages/umap/umap_.py:1945: UserWarning: n_jobs value 1 overridden to 1 by setting random_state. Use no seed for parallelism.\n",
      "  warn(f\"n_jobs value {self.n_jobs} overridden to 1 by setting random_state. Use no seed for parallelism.\")\n"
     ]
    },
    {
     "name": "stdout",
     "output_type": "stream",
     "text": [
      "n_neighbors=15, min_dist=0.5\n"
     ]
    },
    {
     "name": "stderr",
     "output_type": "stream",
     "text": [
      "/cluster/courses/ml4h/jupyter/lib/python3.10/site-packages/umap/umap_.py:1945: UserWarning: n_jobs value 1 overridden to 1 by setting random_state. Use no seed for parallelism.\n",
      "  warn(f\"n_jobs value {self.n_jobs} overridden to 1 by setting random_state. Use no seed for parallelism.\")\n"
     ]
    },
    {
     "name": "stdout",
     "output_type": "stream",
     "text": [
      "n_neighbors=15, min_dist=0.9\n"
     ]
    },
    {
     "name": "stderr",
     "output_type": "stream",
     "text": [
      "/cluster/courses/ml4h/jupyter/lib/python3.10/site-packages/umap/umap_.py:1945: UserWarning: n_jobs value 1 overridden to 1 by setting random_state. Use no seed for parallelism.\n",
      "  warn(f\"n_jobs value {self.n_jobs} overridden to 1 by setting random_state. Use no seed for parallelism.\")\n"
     ]
    }
   ],
   "source": [
    "draw_umap(ptb_train_embeddings, colors_ptb_train, \"PTB\", True)"
   ]
  },
  {
   "cell_type": "code",
   "execution_count": 25,
   "id": "9e066165-7b18-474d-80a1-441bace06817",
   "metadata": {},
   "outputs": [
    {
     "name": "stderr",
     "output_type": "stream",
     "text": [
      "/cluster/courses/ml4h/jupyter/lib/python3.10/site-packages/umap/umap_.py:1945: UserWarning: n_jobs value 1 overridden to 1 by setting random_state. Use no seed for parallelism.\n",
      "  warn(f\"n_jobs value {self.n_jobs} overridden to 1 by setting random_state. Use no seed for parallelism.\")\n",
      "/cluster/courses/ml4h/jupyter/lib/python3.10/site-packages/numba/np/ufunc/parallel.py:371: NumbaWarning: The TBB threading layer requires TBB version 2021 update 6 or later i.e., TBB_INTERFACE_VERSION >= 12060. Found TBB_INTERFACE_VERSION = 12050. The TBB threading layer is disabled.\n",
      "  warnings.warn(problem)\n"
     ]
    },
    {
     "name": "stdout",
     "output_type": "stream",
     "text": [
      "n_neighbors=5, min_dist=0.1\n"
     ]
    },
    {
     "name": "stderr",
     "output_type": "stream",
     "text": [
      "/cluster/courses/ml4h/jupyter/lib/python3.10/site-packages/umap/umap_.py:1945: UserWarning: n_jobs value 1 overridden to 1 by setting random_state. Use no seed for parallelism.\n",
      "  warn(f\"n_jobs value {self.n_jobs} overridden to 1 by setting random_state. Use no seed for parallelism.\")\n"
     ]
    },
    {
     "name": "stdout",
     "output_type": "stream",
     "text": [
      "n_neighbors=5, min_dist=0.5\n"
     ]
    },
    {
     "name": "stderr",
     "output_type": "stream",
     "text": [
      "/cluster/courses/ml4h/jupyter/lib/python3.10/site-packages/umap/umap_.py:1945: UserWarning: n_jobs value 1 overridden to 1 by setting random_state. Use no seed for parallelism.\n",
      "  warn(f\"n_jobs value {self.n_jobs} overridden to 1 by setting random_state. Use no seed for parallelism.\")\n"
     ]
    },
    {
     "name": "stdout",
     "output_type": "stream",
     "text": [
      "n_neighbors=5, min_dist=0.9\n"
     ]
    },
    {
     "name": "stderr",
     "output_type": "stream",
     "text": [
      "/cluster/courses/ml4h/jupyter/lib/python3.10/site-packages/umap/umap_.py:1945: UserWarning: n_jobs value 1 overridden to 1 by setting random_state. Use no seed for parallelism.\n",
      "  warn(f\"n_jobs value {self.n_jobs} overridden to 1 by setting random_state. Use no seed for parallelism.\")\n"
     ]
    },
    {
     "name": "stdout",
     "output_type": "stream",
     "text": [
      "n_neighbors=15, min_dist=0.1\n"
     ]
    },
    {
     "name": "stderr",
     "output_type": "stream",
     "text": [
      "/cluster/courses/ml4h/jupyter/lib/python3.10/site-packages/umap/umap_.py:1945: UserWarning: n_jobs value 1 overridden to 1 by setting random_state. Use no seed for parallelism.\n",
      "  warn(f\"n_jobs value {self.n_jobs} overridden to 1 by setting random_state. Use no seed for parallelism.\")\n"
     ]
    },
    {
     "name": "stdout",
     "output_type": "stream",
     "text": [
      "n_neighbors=15, min_dist=0.5\n"
     ]
    },
    {
     "name": "stderr",
     "output_type": "stream",
     "text": [
      "/cluster/courses/ml4h/jupyter/lib/python3.10/site-packages/umap/umap_.py:1945: UserWarning: n_jobs value 1 overridden to 1 by setting random_state. Use no seed for parallelism.\n",
      "  warn(f\"n_jobs value {self.n_jobs} overridden to 1 by setting random_state. Use no seed for parallelism.\")\n"
     ]
    },
    {
     "name": "stdout",
     "output_type": "stream",
     "text": [
      "n_neighbors=15, min_dist=0.9\n"
     ]
    },
    {
     "name": "stderr",
     "output_type": "stream",
     "text": [
      "/cluster/courses/ml4h/jupyter/lib/python3.10/site-packages/umap/umap_.py:1945: UserWarning: n_jobs value 1 overridden to 1 by setting random_state. Use no seed for parallelism.\n",
      "  warn(f\"n_jobs value {self.n_jobs} overridden to 1 by setting random_state. Use no seed for parallelism.\")\n"
     ]
    },
    {
     "name": "stdout",
     "output_type": "stream",
     "text": [
      "n_neighbors=35, min_dist=0.1\n"
     ]
    },
    {
     "name": "stderr",
     "output_type": "stream",
     "text": [
      "/cluster/courses/ml4h/jupyter/lib/python3.10/site-packages/umap/umap_.py:1945: UserWarning: n_jobs value 1 overridden to 1 by setting random_state. Use no seed for parallelism.\n",
      "  warn(f\"n_jobs value {self.n_jobs} overridden to 1 by setting random_state. Use no seed for parallelism.\")\n"
     ]
    },
    {
     "name": "stdout",
     "output_type": "stream",
     "text": [
      "n_neighbors=35, min_dist=0.5\n"
     ]
    },
    {
     "name": "stderr",
     "output_type": "stream",
     "text": [
      "/cluster/courses/ml4h/jupyter/lib/python3.10/site-packages/umap/umap_.py:1945: UserWarning: n_jobs value 1 overridden to 1 by setting random_state. Use no seed for parallelism.\n",
      "  warn(f\"n_jobs value {self.n_jobs} overridden to 1 by setting random_state. Use no seed for parallelism.\")\n"
     ]
    },
    {
     "name": "stdout",
     "output_type": "stream",
     "text": [
      "n_neighbors=35, min_dist=0.9\n"
     ]
    }
   ],
   "source": [
    "draw_umap(mit_train_embeddings, colors_mit_train, \"MIT\", True)"
   ]
  },
  {
   "cell_type": "code",
   "execution_count": 26,
   "id": "d00edd52-800b-49a0-9ea2-dd47d15eed60",
   "metadata": {},
   "outputs": [
    {
     "name": "stderr",
     "output_type": "stream",
     "text": [
      "/cluster/courses/ml4h/jupyter/lib/python3.10/site-packages/umap/umap_.py:1945: UserWarning: n_jobs value 1 overridden to 1 by setting random_state. Use no seed for parallelism.\n",
      "  warn(f\"n_jobs value {self.n_jobs} overridden to 1 by setting random_state. Use no seed for parallelism.\")\n"
     ]
    },
    {
     "name": "stdout",
     "output_type": "stream",
     "text": [
      "n_neighbors=5, min_dist=0.1\n"
     ]
    },
    {
     "name": "stderr",
     "output_type": "stream",
     "text": [
      "/cluster/courses/ml4h/jupyter/lib/python3.10/site-packages/umap/umap_.py:1945: UserWarning: n_jobs value 1 overridden to 1 by setting random_state. Use no seed for parallelism.\n",
      "  warn(f\"n_jobs value {self.n_jobs} overridden to 1 by setting random_state. Use no seed for parallelism.\")\n"
     ]
    },
    {
     "name": "stdout",
     "output_type": "stream",
     "text": [
      "n_neighbors=5, min_dist=0.5\n"
     ]
    },
    {
     "name": "stderr",
     "output_type": "stream",
     "text": [
      "/cluster/courses/ml4h/jupyter/lib/python3.10/site-packages/umap/umap_.py:1945: UserWarning: n_jobs value 1 overridden to 1 by setting random_state. Use no seed for parallelism.\n",
      "  warn(f\"n_jobs value {self.n_jobs} overridden to 1 by setting random_state. Use no seed for parallelism.\")\n"
     ]
    },
    {
     "name": "stdout",
     "output_type": "stream",
     "text": [
      "n_neighbors=5, min_dist=0.9\n"
     ]
    },
    {
     "name": "stderr",
     "output_type": "stream",
     "text": [
      "/cluster/courses/ml4h/jupyter/lib/python3.10/site-packages/umap/umap_.py:1945: UserWarning: n_jobs value 1 overridden to 1 by setting random_state. Use no seed for parallelism.\n",
      "  warn(f\"n_jobs value {self.n_jobs} overridden to 1 by setting random_state. Use no seed for parallelism.\")\n"
     ]
    },
    {
     "name": "stdout",
     "output_type": "stream",
     "text": [
      "n_neighbors=15, min_dist=0.1\n"
     ]
    },
    {
     "name": "stderr",
     "output_type": "stream",
     "text": [
      "/cluster/courses/ml4h/jupyter/lib/python3.10/site-packages/umap/umap_.py:1945: UserWarning: n_jobs value 1 overridden to 1 by setting random_state. Use no seed for parallelism.\n",
      "  warn(f\"n_jobs value {self.n_jobs} overridden to 1 by setting random_state. Use no seed for parallelism.\")\n"
     ]
    },
    {
     "name": "stdout",
     "output_type": "stream",
     "text": [
      "n_neighbors=15, min_dist=0.5\n"
     ]
    },
    {
     "name": "stderr",
     "output_type": "stream",
     "text": [
      "/cluster/courses/ml4h/jupyter/lib/python3.10/site-packages/umap/umap_.py:1945: UserWarning: n_jobs value 1 overridden to 1 by setting random_state. Use no seed for parallelism.\n",
      "  warn(f\"n_jobs value {self.n_jobs} overridden to 1 by setting random_state. Use no seed for parallelism.\")\n"
     ]
    },
    {
     "name": "stdout",
     "output_type": "stream",
     "text": [
      "n_neighbors=15, min_dist=0.9\n"
     ]
    },
    {
     "name": "stderr",
     "output_type": "stream",
     "text": [
      "/cluster/courses/ml4h/jupyter/lib/python3.10/site-packages/umap/umap_.py:1945: UserWarning: n_jobs value 1 overridden to 1 by setting random_state. Use no seed for parallelism.\n",
      "  warn(f\"n_jobs value {self.n_jobs} overridden to 1 by setting random_state. Use no seed for parallelism.\")\n"
     ]
    },
    {
     "name": "stdout",
     "output_type": "stream",
     "text": [
      "n_neighbors=35, min_dist=0.1\n"
     ]
    },
    {
     "name": "stderr",
     "output_type": "stream",
     "text": [
      "/cluster/courses/ml4h/jupyter/lib/python3.10/site-packages/umap/umap_.py:1945: UserWarning: n_jobs value 1 overridden to 1 by setting random_state. Use no seed for parallelism.\n",
      "  warn(f\"n_jobs value {self.n_jobs} overridden to 1 by setting random_state. Use no seed for parallelism.\")\n"
     ]
    },
    {
     "name": "stdout",
     "output_type": "stream",
     "text": [
      "n_neighbors=35, min_dist=0.5\n"
     ]
    },
    {
     "name": "stderr",
     "output_type": "stream",
     "text": [
      "/cluster/courses/ml4h/jupyter/lib/python3.10/site-packages/umap/umap_.py:1945: UserWarning: n_jobs value 1 overridden to 1 by setting random_state. Use no seed for parallelism.\n",
      "  warn(f\"n_jobs value {self.n_jobs} overridden to 1 by setting random_state. Use no seed for parallelism.\")\n"
     ]
    },
    {
     "name": "stdout",
     "output_type": "stream",
     "text": [
      "n_neighbors=35, min_dist=0.9\n"
     ]
    }
   ],
   "source": [
    "draw_umap(mit_test_embeddings, colors_mit_test, \"MIT\", False)"
   ]
  },
  {
   "cell_type": "markdown",
   "id": "4387fbda-9396-438d-9ce8-85df67faa4aa",
   "metadata": {},
   "source": [
    "## KDE, KL and PCA"
   ]
  },
  {
   "cell_type": "code",
   "execution_count": 31,
   "id": "4a633545-b617-4da9-8246-18c4cf574485",
   "metadata": {},
   "outputs": [
    {
     "name": "stdout",
     "output_type": "stream",
     "text": [
      "Defaulting to user installation because normal site-packages is not writeable\n",
      "Collecting git+https://github.com/syrte/ndtest\n",
      "  Cloning https://github.com/syrte/ndtest to /tmp/pip-req-build-hs8sj2y5\n",
      "  Running command git clone --filter=blob:none --quiet https://github.com/syrte/ndtest /tmp/pip-req-build-hs8sj2y5\n",
      "  Resolved https://github.com/syrte/ndtest to commit 8b15ea9009148a4e124a1d3ecdc58216d765a05b\n",
      "  Preparing metadata (setup.py) ... \u001b[?25ldone\n",
      "\u001b[?25hRequirement already satisfied: numpy in ./.local/lib/python3.10/site-packages (from ndtest==0.1) (1.26.4)\n",
      "Requirement already satisfied: scipy in ./.local/lib/python3.10/site-packages (from ndtest==0.1) (1.13.0)\n",
      "Building wheels for collected packages: ndtest\n",
      "  Building wheel for ndtest (setup.py) ... \u001b[?25ldone\n",
      "\u001b[?25h  Created wheel for ndtest: filename=ndtest-0.1-py3-none-any.whl size=5029 sha256=db3eb93e3099041afcc92f447af6581884098cb30f006d0149c92a253e868fdb\n",
      "  Stored in directory: /tmp/pip-ephem-wheel-cache-9mmjg89k/wheels/ff/81/f2/617b1190d5b86d01c2d80a870173cfead2d727180dfe452403\n",
      "Successfully built ndtest\n",
      "Installing collected packages: ndtest\n",
      "Successfully installed ndtest-0.1\n"
     ]
    }
   ],
   "source": [
    "!pip install git+https://github.com/syrte/ndtest"
   ]
  },
  {
   "cell_type": "code",
   "execution_count": 29,
   "id": "6258e03c-fffb-428c-b362-c0543436c2b2",
   "metadata": {},
   "outputs": [],
   "source": [
    "import ndtest\n",
    "import numpy as np\n",
    "from scipy.stats import gaussian_kde\n",
    "from sklearn.decomposition import PCA"
   ]
  },
  {
   "cell_type": "code",
   "execution_count": 30,
   "id": "d52ea47c-9115-404e-8e42-c9590b3c0685",
   "metadata": {},
   "outputs": [],
   "source": [
    "def compute_kl_divergence(data1, data2):\n",
    "    # Create grid points where we estimate the densities\n",
    "    min_values = np.minimum(np.min(data1, axis=0), np.min(data2, axis=0))\n",
    "    max_values = np.maximum(np.max(data1, axis=0), np.max(data2, axis=0))\n",
    "\n",
    "    num_points = 100  # Number of grid points in each dimension\n",
    "    grid_points = [np.linspace(min_val, max_val, num_points) for min_val, max_val in zip(min_values, max_values)]\n",
    "    grid = np.meshgrid(*grid_points)\n",
    "    grid = np.vstack([g.ravel() for g in grid]).T\n",
    "    \n",
    "    # Estimate densities\n",
    "    p = estimate_density(data1, grid)\n",
    "    q = estimate_density(data2, grid)\n",
    "    \n",
    "    # Compute KL divergence\n",
    "    kl_div = kl_divergence(p, q)\n",
    "    \n",
    "    return kl_div"
   ]
  },
  {
   "cell_type": "code",
   "execution_count": 31,
   "id": "8a62ab4b-ae49-478f-9702-38068271049a",
   "metadata": {},
   "outputs": [],
   "source": [
    "def kl_divergence(p, q):\n",
    "    # Ensure the densities are positive\n",
    "    p = np.clip(p, 1e-10, None)\n",
    "    q = np.clip(q, 1e-10, None)\n",
    "    return np.sum(p * np.log(p / q))\n",
    "\n",
    "def estimate_density(data, points):\n",
    "    kde = gaussian_kde(data.T)\n",
    "    return kde(points.T)"
   ]
  },
  {
   "cell_type": "code",
   "execution_count": 32,
   "id": "6caaf884-94c0-4d76-b9cc-27e3cee0e1ed",
   "metadata": {},
   "outputs": [],
   "source": [
    "def kl_divergence_matrix(embeddings, lables):\n",
    "    classes = np.unique(lables) \n",
    "    kl_matrix = np.zeros((len(classes), len(classes)))\n",
    "    # diagonal is zero and symmetric\n",
    "    for i in range(len(classes)):\n",
    "        for j in range(i+1, len(classes)):\n",
    "            kl_matrix[i, j] = compute_kl_divergence(embeddings[lables == i], embeddings[lables == j])\n",
    "            kl_matrix[j, i] = kl_matrix[i, j]\n",
    "    return kl_matrix"
   ]
  },
  {
   "cell_type": "markdown",
   "id": "0470acca-6201-4575-bedb-23c98ae72cd7",
   "metadata": {},
   "source": [
    "### PCA"
   ]
  },
  {
   "cell_type": "code",
   "execution_count": 26,
   "id": "544f4445-39cc-43ff-bead-6bbe1ee9ac4b",
   "metadata": {},
   "outputs": [],
   "source": [
    "pca = PCA(n_components = 2)"
   ]
  },
  {
   "cell_type": "code",
   "execution_count": 44,
   "id": "5420cebe-6782-42e9-a722-303b71e057a3",
   "metadata": {},
   "outputs": [],
   "source": [
    "pca_train_ptb_reduced = pca.fit_transform(ptb_train_embeddings)\n",
    "pca_test_ptb_reduced = pca.transform(ptb_test_embeddings)\n",
    "pca_train_mit_reduced = pca.fit_transform(mit_train_embeddings)\n",
    "pca_test_mit_reduced = pca.transform(mit_test_embeddings)"
   ]
  },
  {
   "cell_type": "code",
   "execution_count": 45,
   "id": "00374c7f-8152-42e8-8609-0b7ef96e4323",
   "metadata": {},
   "outputs": [],
   "source": [
    "matrix_train = kl_divergence_matrix(pca_train_mit_reduced, train_target_mit)\n",
    "matrix_test = kl_divergence_matrix(pca_test_mit_reduced, test_target_mit)"
   ]
  },
  {
   "cell_type": "code",
   "execution_count": 46,
   "id": "08e36826-1084-422a-a61d-e7b3b2aeef43",
   "metadata": {},
   "outputs": [
    {
     "data": {
      "image/png": "[encoded data removed]",
      "text/plain": [
       "<Figure size 1500x500 with 2 Axes>"
      ]
     },
     "metadata": {},
     "output_type": "display_data"
    }
   ],
   "source": [
    "# mit_reduced\n",
    "\n",
    "fig, axs = plt.subplots(1, 2, figsize=(15, 5))\n",
    "fig.suptitle('KL Divergence Matrix')\n",
    "axs[0].imshow(matrix_train, cmap='Wistia', interpolation='nearest')\n",
    "\n",
    "# Add the values in the squares\n",
    "for i in range(matrix_train.shape[0]):\n",
    "    for j in range(matrix_train.shape[1]):\n",
    "        axs[0].text(j, i, f'{matrix_train[i, j]:.2f}', ha='center', va='center', color='black')\n",
    "\n",
    "axs[0].set_title('MIT Train')\n",
    "axs[0].set_xlabel('Classes')\n",
    "axs[0].set_ylabel('Classes')\n",
    "axs[1].imshow(matrix_test, cmap='Wistia', interpolation='nearest')\n",
    "\n",
    "# Add the values in the squares\n",
    "for i in range(matrix_test.shape[0]):\n",
    "    for j in range(matrix_test.shape[1]):\n",
    "        axs[1].text(j, i, f'{matrix_test[i, j]:.2f}', ha='center', va='center', color='black')\n",
    "\n",
    "axs[1].set_title('MIT Test')\n",
    "axs[1].set_xlabel('Classes')\n",
    "axs[1].set_ylabel('Classes')\n",
    "plt.savefig(\"plots/kl_matrix_mit.png\")\n",
    "plt.show()"
   ]
  },
  {
   "cell_type": "code",
   "execution_count": 47,
   "id": "ae705055-5da1-4af7-aab5-a38e14ce9b1f",
   "metadata": {},
   "outputs": [],
   "source": [
    "matrix_train = kl_divergence_matrix(pca_train_ptb_reduced, train_target_ptb)\n",
    "matrix_test = kl_divergence_matrix(pca_test_ptb_reduced, test_target_ptb)"
   ]
  },
  {
   "cell_type": "code",
   "execution_count": 48,
   "id": "bfb5aa59-bacf-4a4e-82a0-dfda339304ad",
   "metadata": {},
   "outputs": [
    {
     "data": {
      "image/png": "[encoded data removed]",
      "text/plain": [
       "<Figure size 1500x500 with 2 Axes>"
      ]
     },
     "metadata": {},
     "output_type": "display_data"
    }
   ],
   "source": [
    "# ptb_reduced\n",
    "\n",
    "fig, axs = plt.subplots(1, 2, figsize=(15, 5))\n",
    "fig.suptitle('KL Divergence Matrix')\n",
    "axs[0].imshow(matrix_train, cmap='Wistia', interpolation='nearest')\n",
    "\n",
    "# Add the values in the squares\n",
    "for i in range(matrix_train.shape[0]):\n",
    "    for j in range(matrix_train.shape[1]):\n",
    "        axs[0].text(j, i, f'{matrix_train[i, j]:.2f}', ha='center', va='center', color='black')\n",
    "\n",
    "axs[0].set_title('MIT Train')\n",
    "axs[0].set_xlabel('Classes')\n",
    "axs[0].set_ylabel('Classes')\n",
    "axs[1].imshow(matrix_test, cmap='Wistia', interpolation='nearest')\n",
    "\n",
    "# Add the values in the squares\n",
    "for i in range(matrix_test.shape[0]):\n",
    "    for j in range(matrix_test.shape[1]):\n",
    "        axs[1].text(j, i, f'{matrix_test[i, j]:.2f}', ha='center', va='center', color='black')\n",
    "\n",
    "axs[1].set_title('MIT Test')\n",
    "axs[1].set_xlabel('Classes')\n",
    "axs[1].set_ylabel('Classes')\n",
    "plt.savefig(\"plots/kl_matrix_mit.png\")\n",
    "plt.show()"
   ]
  },
  {
   "cell_type": "code",
   "execution_count": 50,
   "id": "2f50e7e3-6b7e-4211-973f-2d76c880284c",
   "metadata": {},
   "outputs": [
    {
     "name": "stdout",
     "output_type": "stream",
     "text": [
      "KL Divergence\n",
      "MIT Train vs PTB Train: 3.7555742136250694\n",
      "MIT Test vs PTB Test: 3.5269123278873975\n",
      "MIT Train vs PTB Test: 3.3995507964722687\n",
      "MIT Test vs PTB Train: 3.9198684212578727\n",
      "MIT Train vs MIT Test: 0.013540669998990687\n",
      "PTB Train vs PTB Test: 0.06047400402479906\n"
     ]
    }
   ],
   "source": [
    "#calculate the Kl divergence between the mit and ptb data all combinations\n",
    "kl_mit_ptb_train = compute_kl_divergence(pca_train_mit_reduced, pca_train_ptb_reduced)\n",
    "kl_mit_ptb_test = compute_kl_divergence(pca_test_mit_reduced, pca_test_ptb_reduced)\n",
    "kl_mit_ptb_train_test = compute_kl_divergence(pca_train_mit_reduced, pca_test_ptb_reduced)\n",
    "kl_mit_ptb_test_train = compute_kl_divergence(pca_test_mit_reduced, pca_train_ptb_reduced)\n",
    "kl_mit = compute_kl_divergence(pca_train_mit_reduced, pca_test_mit_reduced)\n",
    "kl_ptb = compute_kl_divergence(pca_train_ptb_reduced, pca_test_ptb_reduced)\n",
    "\n",
    "# print results in a table\n",
    "print('KL Divergence')\n",
    "print('MIT Train vs PTB Train:', kl_mit_ptb_train)\n",
    "print('MIT Test vs PTB Test:', kl_mit_ptb_test)\n",
    "print('MIT Train vs PTB Test:', kl_mit_ptb_train_test)\n",
    "print('MIT Test vs PTB Train:', kl_mit_ptb_test_train)\n",
    "print('MIT Train vs MIT Test:', kl_mit)\n",
    "print('PTB Train vs PTB Test:', kl_ptb)"
   ]
  },
  {
   "cell_type": "code",
   "execution_count": 51,
   "id": "85f57400-8e5e-40a3-bdf0-f6708aa70f28",
   "metadata": {},
   "outputs": [
    {
     "name": "stdout",
     "output_type": "stream",
     "text": [
      "Two-sample test\n",
      "MIT Train vs PTB Train: 2.311871636840386e-224\n",
      "MIT Test vs PTB Test: 2.182343977754287e-56\n",
      "MIT Train vs PTB Test: 1.177927283826321e-60\n",
      "MIT Test vs PTB Train: 3.4635356028541625e-169\n",
      "MIT Train vs MIT Test: 0.24907695561001233\n",
      "PTB Train vs PTB Test: 0.6194542545347974\n"
     ]
    }
   ],
   "source": [
    "# perform the two-sample test\n",
    "mit_ptb_train = ndtest.ks2d2s(pca_train_mit_reduced[:,0], pca_train_mit_reduced[:,1], pca_train_ptb_reduced[:,0], pca_train_ptb_reduced[:,1])\n",
    "mit_ptb_test = ndtest.ks2d2s(pca_test_mit_reduced[:,0], pca_test_mit_reduced[:,1], pca_test_ptb_reduced[:,0], pca_test_ptb_reduced[:,1])\n",
    "mit_ptb_train_test = ndtest.ks2d2s(pca_train_mit_reduced[:,0], pca_train_mit_reduced[:,1], pca_test_ptb_reduced[:,0], pca_test_ptb_reduced[:,1])\n",
    "mit_ptb_test_train = ndtest.ks2d2s(pca_test_mit_reduced[:,0], pca_test_mit_reduced[:,1], pca_train_ptb_reduced[:,0], pca_train_ptb_reduced[:,1])\n",
    "mit = ndtest.ks2d2s(pca_train_mit_reduced[:,0], pca_train_mit_reduced[:,1], pca_test_mit_reduced[:,0], pca_test_mit_reduced[:,1])\n",
    "ptb = ndtest.ks2d2s(pca_train_ptb_reduced[:,0], pca_train_ptb_reduced[:,1], pca_test_ptb_reduced[:,0], pca_test_ptb_reduced[:,1])\n",
    "\n",
    "# print results in a table\n",
    "print('Two-sample test')\n",
    "print('MIT Train vs PTB Train:', mit_ptb_train)\n",
    "print('MIT Test vs PTB Test:', mit_ptb_test)\n",
    "print('MIT Train vs PTB Test:', mit_ptb_train_test)\n",
    "print('MIT Test vs PTB Train:', mit_ptb_test_train)\n",
    "print('MIT Train vs MIT Test:', mit)\n",
    "print('PTB Train vs PTB Test:', ptb)"
   ]
  }
 ],
 "metadata": {
  "kernelspec": {
   "display_name": "Python 3 (ipykernel)",
   "language": "python",
   "name": "python3"
  },
  "language_info": {
   "codemirror_mode": {
    "name": "ipython",
    "version": 3
   },
   "file_extension": ".py",
   "mimetype": "text/x-python",
   "name": "python",
   "nbconvert_exporter": "python",
   "pygments_lexer": "ipython3",
   "version": "3.10.12"
  }
 },
 "nbformat": 4,
 "nbformat_minor": 5
}
